{
 "cells": [
  {
   "cell_type": "code",
   "execution_count": 37,
   "id": "41a6f89c",
   "metadata": {},
   "outputs": [],
   "source": [
    "import qiskit\n",
    "import numpy as np\n",
    "from qiskit import *\n",
    "from qiskit.visualization import plot_histogram, plot_bloch_vector, plot_bloch_multivector\n",
    "from qiskit.tools.monitor import job_monitor\n",
    "from numpy.random import randint"
   ]
  },
  {
   "cell_type": "code",
   "execution_count": 38,
   "id": "b1b9c335",
   "metadata": {},
   "outputs": [],
   "source": [
    "def bin_to_int_key(bin_key):\n",
    "    n = len(bin_key)\n",
    "    int_key = []\n",
    "    zero = []\n",
    "    one = []\n",
    "    for i in range(0,n):\n",
    "        if not bin_key[i]:\n",
    "            zero.append(i)\n",
    "        else:\n",
    "            one.append(i)\n",
    "    int_key = zero + one\n",
    "    return int_key"
   ]
  },
  {
   "cell_type": "code",
   "execution_count": 39,
   "id": "47a507e6",
   "metadata": {},
   "outputs": [],
   "source": [
    "def chained_cnot(n, KAT, qc):\n",
    "    # n = len(P)\n",
    "    for i in range(0,n):\n",
    "        if i != KAT[i]:\n",
    "            qc.cnot(i, KAT[i])"
   ]
  },
  {
   "cell_type": "code",
   "execution_count": 40,
   "id": "373e4ec0",
   "metadata": {},
   "outputs": [],
   "source": [
    "def chained_cnot_dec(n, KAT, qc):\n",
    "    # n = len(P)\n",
    "    for i in reversed(range(0,n)):\n",
    "        if i != KAT[i]:\n",
    "            qc.cnot(i, KAT[i])"
   ]
  },
  {
   "cell_type": "code",
   "execution_count": 41,
   "id": "a7202e33",
   "metadata": {},
   "outputs": [],
   "source": [
    "def qotp(n, KAT_2n, qc):\n",
    "    # n = len(P)\n",
    "    # KAT has length 2n\n",
    "    for i in range(0,n):\n",
    "        if KAT_2n[2*i]:\n",
    "            qc.x(i)\n",
    "        if KAT_2n[2*i+1]:\n",
    "            qc.z(i)"
   ]
  },
  {
   "cell_type": "code",
   "execution_count": null,
   "id": "549512c1",
   "metadata": {},
   "outputs": [],
   "source": [
    "def qotp_dec(n, KAT_2n, qc):\n",
    "    # n = len(P)\n",
    "    # KAT has length 2n\n",
    "    for i in range(0,n):\n",
    "        if KAT_2n[2*i+1]:\n",
    "            qc.z(i)\n",
    "        if KAT_2n[2*i]:\n",
    "            qc.x(i)"
   ]
  },
  {
   "cell_type": "code",
   "execution_count": 42,
   "id": "cbf6c0d7",
   "metadata": {},
   "outputs": [],
   "source": [
    "def random_init(message, qc):\n",
    "    for i in range(0, len(message)):\n",
    "        if message[i]:\n",
    "            qc.x(i)"
   ]
  },
  {
   "cell_type": "code",
   "execution_count": 43,
   "id": "4bc35a1a",
   "metadata": {},
   "outputs": [],
   "source": [
    "n = 10\n",
    "np.random.seed(seed = 2)\n",
    "alice_trent_shared_bin = randint(2, size = n) # alice's message P\n",
    "KAT = bin_to_int_key(alice_trent_shared_bin)\n",
    "KAT_2n = randint(2, size = 2*n)\n",
    "message = randint(2, size = n)"
   ]
  },
  {
   "cell_type": "code",
   "execution_count": 44,
   "id": "3159979d",
   "metadata": {},
   "outputs": [
    {
     "name": "stdout",
     "output_type": "stream",
     "text": [
      "[0 1 1 0 0 1 0 1 0 1]\n",
      "[0, 3, 4, 6, 8, 1, 2, 5, 7, 9]\n",
      "[0 1 1 1 1 1 1 1 0 0 0 0 1 1 1 0 0 0 1 1]\n",
      "[1 0 0 1 0 0 1 1 1 0]\n"
     ]
    }
   ],
   "source": [
    "print(alice_trent_shared_bin)\n",
    "print(KAT)\n",
    "print(KAT_2n)\n",
    "print(message)"
   ]
  },
  {
   "cell_type": "code",
   "execution_count": 45,
   "id": "33ca1603",
   "metadata": {},
   "outputs": [
    {
     "data": {
      "text/html": [
       "<pre style=\"word-wrap: normal;white-space: pre;background: #fff0;line-height: 1.1;font-family: &quot;Courier New&quot;,Courier,monospace\">       ┌───┐ ░ ┌───┐      ░ \n",
       "q78_0: ┤ X ├─░─┤ Z ├──────░─\n",
       "       └───┘ ░ ├───┤┌───┐ ░ \n",
       "q78_1: ──────░─┤ X ├┤ Z ├─░─\n",
       "             ░ ├───┤├───┤ ░ \n",
       "q78_2: ──────░─┤ X ├┤ Z ├─░─\n",
       "       ┌───┐ ░ ├───┤├───┤ ░ \n",
       "q78_3: ┤ X ├─░─┤ X ├┤ Z ├─░─\n",
       "       └───┘ ░ └───┘└───┘ ░ \n",
       "q78_4: ──────░────────────░─\n",
       "             ░            ░ \n",
       "q78_5: ──────░────────────░─\n",
       "       ┌───┐ ░ ┌───┐┌───┐ ░ \n",
       "q78_6: ┤ X ├─░─┤ X ├┤ Z ├─░─\n",
       "       ├───┤ ░ ├───┤└───┘ ░ \n",
       "q78_7: ┤ X ├─░─┤ X ├──────░─\n",
       "       ├───┤ ░ └───┘      ░ \n",
       "q78_8: ┤ X ├─░────────────░─\n",
       "       └───┘ ░ ┌───┐┌───┐ ░ \n",
       "q78_9: ──────░─┤ X ├┤ Z ├─░─\n",
       "             ░ └───┘└───┘ ░ \n",
       "c3: 10/═════════════════════\n",
       "                            </pre>"
      ],
      "text/plain": [
       "       ┌───┐ ░ ┌───┐      ░ \n",
       "q78_0: ┤ X ├─░─┤ Z ├──────░─\n",
       "       └───┘ ░ ├───┤┌───┐ ░ \n",
       "q78_1: ──────░─┤ X ├┤ Z ├─░─\n",
       "             ░ ├───┤├───┤ ░ \n",
       "q78_2: ──────░─┤ X ├┤ Z ├─░─\n",
       "       ┌───┐ ░ ├───┤├───┤ ░ \n",
       "q78_3: ┤ X ├─░─┤ X ├┤ Z ├─░─\n",
       "       └───┘ ░ └───┘└───┘ ░ \n",
       "q78_4: ──────░────────────░─\n",
       "             ░            ░ \n",
       "q78_5: ──────░────────────░─\n",
       "       ┌───┐ ░ ┌───┐┌───┐ ░ \n",
       "q78_6: ┤ X ├─░─┤ X ├┤ Z ├─░─\n",
       "       ├───┤ ░ ├───┤└───┘ ░ \n",
       "q78_7: ┤ X ├─░─┤ X ├──────░─\n",
       "       ├───┤ ░ └───┘      ░ \n",
       "q78_8: ┤ X ├─░────────────░─\n",
       "       └───┘ ░ ┌───┐┌───┐ ░ \n",
       "q78_9: ──────░─┤ X ├┤ Z ├─░─\n",
       "             ░ └───┘└───┘ ░ \n",
       "c3: 10/═════════════════════\n",
       "                            "
      ]
     },
     "execution_count": 45,
     "metadata": {},
     "output_type": "execute_result"
    }
   ],
   "source": [
    "q = QuantumRegister(n)\n",
    "c = ClassicalRegister(n)\n",
    "qc = QuantumCircuit(q, c)\n",
    "random_init(message, qc)\n",
    "qc.barrier()\n",
    "# use either encryption method\n",
    "# chained_cnot(n, KAT, qc)\n",
    "qotp(n, KAT_2n, qc)\n",
    "qc.barrier()\n",
    "qc.draw()"
   ]
  },
  {
   "cell_type": "code",
   "execution_count": 46,
   "id": "4f8160f0",
   "metadata": {},
   "outputs": [
    {
     "data": {
      "text/html": [
       "<pre style=\"word-wrap: normal;white-space: pre;background: #fff0;line-height: 1.1;font-family: &quot;Courier New&quot;,Courier,monospace\">       ┌───┐ ░ ┌───┐      ░ ┌───┐     \n",
       "q78_0: ┤ X ├─░─┤ Z ├──────░─┤ Z ├─────\n",
       "       └───┘ ░ ├───┤┌───┐ ░ ├───┤┌───┐\n",
       "q78_1: ──────░─┤ X ├┤ Z ├─░─┤ X ├┤ Z ├\n",
       "             ░ ├───┤├───┤ ░ ├───┤├───┤\n",
       "q78_2: ──────░─┤ X ├┤ Z ├─░─┤ X ├┤ Z ├\n",
       "       ┌───┐ ░ ├───┤├───┤ ░ ├───┤├───┤\n",
       "q78_3: ┤ X ├─░─┤ X ├┤ Z ├─░─┤ X ├┤ Z ├\n",
       "       └───┘ ░ └───┘└───┘ ░ └───┘└───┘\n",
       "q78_4: ──────░────────────░───────────\n",
       "             ░            ░           \n",
       "q78_5: ──────░────────────░───────────\n",
       "       ┌───┐ ░ ┌───┐┌───┐ ░ ┌───┐┌───┐\n",
       "q78_6: ┤ X ├─░─┤ X ├┤ Z ├─░─┤ X ├┤ Z ├\n",
       "       ├───┤ ░ ├───┤└───┘ ░ ├───┤└───┘\n",
       "q78_7: ┤ X ├─░─┤ X ├──────░─┤ X ├─────\n",
       "       ├───┤ ░ └───┘      ░ └───┘     \n",
       "q78_8: ┤ X ├─░────────────░───────────\n",
       "       └───┘ ░ ┌───┐┌───┐ ░ ┌───┐┌───┐\n",
       "q78_9: ──────░─┤ X ├┤ Z ├─░─┤ X ├┤ Z ├\n",
       "             ░ └───┘└───┘ ░ └───┘└───┘\n",
       "c3: 10/═══════════════════════════════\n",
       "                                      </pre>"
      ],
      "text/plain": [
       "       ┌───┐ ░ ┌───┐      ░ ┌───┐     \n",
       "q78_0: ┤ X ├─░─┤ Z ├──────░─┤ Z ├─────\n",
       "       └───┘ ░ ├───┤┌───┐ ░ ├───┤┌───┐\n",
       "q78_1: ──────░─┤ X ├┤ Z ├─░─┤ X ├┤ Z ├\n",
       "             ░ ├───┤├───┤ ░ ├───┤├───┤\n",
       "q78_2: ──────░─┤ X ├┤ Z ├─░─┤ X ├┤ Z ├\n",
       "       ┌───┐ ░ ├───┤├───┤ ░ ├───┤├───┤\n",
       "q78_3: ┤ X ├─░─┤ X ├┤ Z ├─░─┤ X ├┤ Z ├\n",
       "       └───┘ ░ └───┘└───┘ ░ └───┘└───┘\n",
       "q78_4: ──────░────────────░───────────\n",
       "             ░            ░           \n",
       "q78_5: ──────░────────────░───────────\n",
       "       ┌───┐ ░ ┌───┐┌───┐ ░ ┌───┐┌───┐\n",
       "q78_6: ┤ X ├─░─┤ X ├┤ Z ├─░─┤ X ├┤ Z ├\n",
       "       ├───┤ ░ ├───┤└───┘ ░ ├───┤└───┘\n",
       "q78_7: ┤ X ├─░─┤ X ├──────░─┤ X ├─────\n",
       "       ├───┤ ░ └───┘      ░ └───┘     \n",
       "q78_8: ┤ X ├─░────────────░───────────\n",
       "       └───┘ ░ ┌───┐┌───┐ ░ ┌───┐┌───┐\n",
       "q78_9: ──────░─┤ X ├┤ Z ├─░─┤ X ├┤ Z ├\n",
       "             ░ └───┘└───┘ ░ └───┘└───┘\n",
       "c3: 10/═══════════════════════════════\n",
       "                                      "
      ]
     },
     "execution_count": 46,
     "metadata": {},
     "output_type": "execute_result"
    }
   ],
   "source": [
    "# chained_cnot_dec(n, KAT, qc)\n",
    "qotp(n, KAT_2n, qc)\n",
    "qc.draw()"
   ]
  },
  {
   "cell_type": "code",
   "execution_count": 47,
   "id": "5ecd9492",
   "metadata": {},
   "outputs": [],
   "source": [
    "def get_measurements(measure_type, qc, num_shots): \n",
    "    qasm_sim = Aer.get_backend('qasm_simulator')\n",
    "    if measure_type == \"simulator\":\n",
    "        job = execute(qc, qasm_sim, memory = True, shots = num_shots) \n",
    "        result = job.result()\n",
    "        return result\n",
    "    elif measure_type == \"real_device\":\n",
    "        job = execute(qc, backend = backend, memory = True, shots = num_shots) \n",
    "        job_monitor(job)\n",
    "        result = job.result()\n",
    "        return result"
   ]
  },
  {
   "cell_type": "code",
   "execution_count": 48,
   "id": "c49f5832",
   "metadata": {},
   "outputs": [
    {
     "name": "stdout",
     "output_type": "stream",
     "text": [
      "{'0111001001': 1024}\n",
      "[1 0 0 1 0 0 1 1 1 0]\n"
     ]
    }
   ],
   "source": [
    "qc.measure(q,c)\n",
    "res = get_measurements(\"simulator\", qc, 1024)\n",
    "counts = res.get_counts()\n",
    "print(counts)\n",
    "print(message)"
   ]
  }
 ],
 "metadata": {
  "kernelspec": {
   "display_name": "Python 3 (ipykernel)",
   "language": "python",
   "name": "python3"
  },
  "language_info": {
   "codemirror_mode": {
    "name": "ipython",
    "version": 3
   },
   "file_extension": ".py",
   "mimetype": "text/x-python",
   "name": "python",
   "nbconvert_exporter": "python",
   "pygments_lexer": "ipython3",
   "version": "3.9.7"
  }
 },
 "nbformat": 4,
 "nbformat_minor": 5
}

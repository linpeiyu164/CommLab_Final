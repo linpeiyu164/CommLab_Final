{
 "cells": [
  {
   "cell_type": "markdown",
   "id": "favorite-insertion",
   "metadata": {},
   "source": [
    "# CommLab Final Project: AQS Implementation"
   ]
  },
  {
   "cell_type": "markdown",
   "id": "secondary-alabama",
   "metadata": {},
   "source": [
    "## Import packages"
   ]
  },
  {
   "cell_type": "code",
   "execution_count": 92,
   "id": "level-portugal",
   "metadata": {},
   "outputs": [],
   "source": [
    "from qiskit import *\n",
    "import math\n",
    "import random\n",
    "import numpy as np\n",
    "from qiskit.tools.visualization import circuit_drawer"
   ]
  },
  {
   "cell_type": "code",
   "execution_count": 93,
   "id": "3b4616bb",
   "metadata": {},
   "outputs": [],
   "source": [
    "qasm_sim = Aer.get_backend('qasm_simulator')\n",
    "def get_measurements(qc, num_shots): \n",
    "    job = execute(qc, qasm_sim, memory = True, shots = num_shots) \n",
    "    result = job.result()\n",
    "    return result"
   ]
  },
  {
   "cell_type": "markdown",
   "id": "dramatic-lucas",
   "metadata": {},
   "source": [
    "## Initializing phase"
   ]
  },
  {
   "cell_type": "code",
   "execution_count": 94,
   "id": "limited-american",
   "metadata": {},
   "outputs": [],
   "source": [
    "def bin_to_int_key(bin_key):\n",
    "    # transform binary key shared by alice and trent into KAT(integer based key)\n",
    "    n = len(bin_key)\n",
    "    int_key = []\n",
    "    zero = []\n",
    "    one = []\n",
    "    for i in range(0,n):\n",
    "        if not bin_key[i]:\n",
    "            zero.append(i)\n",
    "        else:\n",
    "            one.append(i)\n",
    "    int_key = zero + one\n",
    "    return int_key\n",
    "\n",
    "def generate_message(n):\n",
    "    message = QuantumRegister(n, name=\"p\")\n",
    "    message_measure = ClassicalRegister(n, name=\"p_c\")\n",
    "    qc = QuantumCircuit(message, message_measure)\n",
    "    for i in range(n):\n",
    "        random_state = quantum_info.random_statevector(dims=2, seed=None)\n",
    "        qc.initialize(random_state, message[i])\n",
    "    return qc\n",
    "\n",
    "# will be replaced with QKD\n",
    "def get_shared_key(n):\n",
    "    r_AT = np.random.randint(0, 2, n)\n",
    "    r_BT = np.random.randint(0, 2, 2*n + 1)\n",
    "\n",
    "    K_AT = bin_to_int_key(r_AT)\n",
    "    K_BT = bin_to_int_key(r_BT)\n",
    "    \n",
    "    return K_AT, K_BT, r_BT\n",
    "\n",
    "def create_bell_states(n):\n",
    "    A_pos = QuantumRegister(n)\n",
    "    B_pos = QuantumRegister(n)  \n",
    "    qc = QuantumCircuit(A_pos, B_pos)\n",
    "    \n",
    "    for i in range(n):\n",
    "        qc.h(A_pos[i])\n",
    "        qc.cnot(A_pos[i], B_pos[i])\n",
    "    return qc.to_instruction(label=\"bell_state\")"
   ]
  },
  {
   "cell_type": "code",
   "execution_count": 95,
   "id": "stuck-blood",
   "metadata": {
    "scrolled": true
   },
   "outputs": [
    {
     "data": {
      "text/plain": [
       "<qiskit.circuit.instructionset.InstructionSet at 0x13847b7f0>"
      ]
     },
     "execution_count": 95,
     "metadata": {},
     "output_type": "execute_result"
    }
   ],
   "source": [
    "n = 4\n",
    "\n",
    "P = QuantumRegister(n, name=\"p_original\")\n",
    "P_enc = QuantumRegister(n, name=\"p_enc\")\n",
    "S_A = QuantumRegister(n, name=\"s_a\")\n",
    "M_A_1 = QuantumRegister(n, name=\"m_a_1\")\n",
    "M_A_2 = QuantumRegister(n, name=\"m_a_2\")\n",
    "A_bell = QuantumRegister(n, name=\"alice_bell\")\n",
    "B_bell = QuantumRegister(n, name=\"bob_bell\")\n",
    "for_M_A = QuantumRegister(n, name=\"m_a_mea\")\n",
    "verify = QuantumRegister(1, name=\"verify\")\n",
    "verify_measure = ClassicalRegister(1, name=\"verify_measure\")\n",
    "cswap_measure = ClassicalRegister(n, name=\"cswap_measure\")\n",
    "cswap = QuantumRegister(n, name=\"cswap\")\n",
    "cswap_measure_2 = ClassicalRegister(n, name=\"cswap_measure_2\")\n",
    "cswap_2 = QuantumRegister(n, name=\"cswap_2\")\n",
    "cswap_measure_3 = ClassicalRegister(n, name=\"cswap_measure_3\")\n",
    "cswap_3 = QuantumRegister(n, name=\"cswap_3\")\n",
    "cswap_measure_4 = ClassicalRegister(n, name=\"cswap_measure_4\")\n",
    "cswap_4 = QuantumRegister(n, name=\"cswap_4\")\n",
    "\n",
    "qc = QuantumCircuit(P, P_enc, S_A, M_A_1, M_A_2, \n",
    "                    A_bell, B_bell, for_M_A, verify, verify_measure,\n",
    "                    cswap, cswap_2, cswap_3, cswap_4, \n",
    "                    cswap_measure, cswap_measure_2, cswap_measure_3, cswap_measure_4)\n",
    "\n",
    "get_M_A = []\n",
    "for m in range(2*n):\n",
    "    get_M_A.append(ClassicalRegister(1, 'mac_' + str(m)))\n",
    "    qc.add_register(get_M_A[m])\n",
    "\n",
    "measure_M_A_1 = []\n",
    "measure_M_A_2 = []\n",
    "for m in range(n):\n",
    "    measure_M_A_1.append(ClassicalRegister(1, 'm_a_1_measure'+str(m)))\n",
    "    measure_M_A_2.append(ClassicalRegister(1, 'm_a_2_measure'+str(m)))\n",
    "    qc.add_register(measure_M_A_1[m])\n",
    "    qc.add_register(measure_M_A_2[m])\n",
    "\n",
    "# Step 1 : 3 copies of the message\n",
    "for i in range(n):\n",
    "    random_state = quantum_info.random_statevector(dims=2, seed=None)\n",
    "    qc.initialize(random_state, P_enc[i])\n",
    "    qc.initialize(random_state, S_A[i])\n",
    "    qc.initialize(random_state, for_M_A[i])\n",
    "    qc.initialize(random_state, P[i])\n",
    "\n",
    "# keys generation\n",
    "K_AT, K_BT, r_BT = get_shared_key(n)\n",
    "\n",
    "# Step 2 : generate bell states between Alice, Bob\n",
    "AB_bell = []\n",
    "for i in range(n):\n",
    "    AB_bell.append(A_bell[i])\n",
    "for i in range(n):\n",
    "    AB_bell.append(B_bell[i])\n",
    "qc.append(create_bell_states(n), AB_bell)"
   ]
  },
  {
   "cell_type": "markdown",
   "id": "educated-logan",
   "metadata": {},
   "source": [
    "## Signing phase"
   ]
  },
  {
   "cell_type": "code",
   "execution_count": 96,
   "id": "outstanding-worthy",
   "metadata": {},
   "outputs": [],
   "source": [
    "def chained_cnot_enc(n, K):\n",
    "    q = QuantumRegister(n)\n",
    "    qc = QuantumCircuit(q)\n",
    "    for i in range(n):\n",
    "        if i != K[i]:\n",
    "            qc.cnot(i, K[i])\n",
    "    return qc.to_instruction(label=\"chained_cnot_enc\")\n",
    "\n",
    "def chained_cnot_dec(n, K):\n",
    "    q = QuantumRegister(n)\n",
    "    qc = QuantumCircuit(q)\n",
    "    print()\n",
    "    for i in reversed(range(0,n)):\n",
    "        if i != K[i]:\n",
    "            qc.cnot(i, K[i])\n",
    "    return qc.to_instruction(label=\"chained_cnot_dec\")\n",
    "\n",
    "def bell_measurement(n):\n",
    "    q1 = QuantumRegister(n)\n",
    "    q2 = QuantumRegister(n)\n",
    "    qc = QuantumCircuit(q1, q2)\n",
    "    for i in range(n):\n",
    "        qc.cnot(q1[i], q2[i])\n",
    "        qc.h(q1[i])\n",
    "    return qc.to_instruction(label=\"bell_measurement\")"
   ]
  },
  {
   "cell_type": "code",
   "execution_count": 97,
   "id": "wrapped-holocaust",
   "metadata": {
    "scrolled": true
   },
   "outputs": [
    {
     "data": {
      "text/plain": [
       "<qiskit.circuit.instructionset.InstructionSet at 0x139093430>"
      ]
     },
     "execution_count": 97,
     "metadata": {},
     "output_type": "execute_result"
    }
   ],
   "source": [
    "# Step 1 : 1st copy of P --> P_enc\n",
    "r_R = np.random.randint(0, 2, n)\n",
    "K_R = bin_to_int_key(r_R)\n",
    "\n",
    "qc.append(chained_cnot_enc(n, K_R), P_enc)\n",
    "\n",
    "# Step 2 : 2nd copy of P --> P_enc --> S_A\n",
    "qc.append(chained_cnot_enc(n, K_R), S_A)\n",
    "qc.append(chained_cnot_enc(n, K_AT), S_A)\n",
    "\n",
    "# Step 3 : generate one type of bell state (to transform into other bell states later)\n",
    "bell_m = []\n",
    "\n",
    "for i in range(n):\n",
    "    bell_m.append(M_A_1[i])\n",
    "for i in range(n):\n",
    "    bell_m.append(M_A_2[i])\n",
    "qc.append(create_bell_states(n), bell_m) \n",
    "\n",
    "# 3rd copy of P -> P_enc\n",
    "qc.append(chained_cnot_enc(n, K_R), for_M_A) \n",
    "\n",
    "bell_m = []\n",
    "# bell_m is P_enc and A_bell concatenated\n",
    "\n",
    "for i in range(n):\n",
    "    bell_m.append(A_bell[i]) # A's bell state\n",
    "for i in range(n): \n",
    "    bell_m.append(for_M_A[i]) # P_enc\n",
    "\n",
    "qc.append(bell_measurement(n), bell_m) # do bell measurement on A's bell and P_enc"
   ]
  },
  {
   "cell_type": "code",
   "execution_count": 98,
   "id": "passive-trout",
   "metadata": {},
   "outputs": [],
   "source": [
    "for i in range(n):\n",
    "    qc.measure(A_bell[i], get_M_A[2*i])\n",
    "    qc.measure(for_M_A[i], get_M_A[2*i+1])\n",
    "    qc.z(M_A_1[i]).c_if(get_M_A[2*i], 1)\n",
    "    qc.x(M_A_2[i]).c_if(get_M_A[2*i+1], 1)"
   ]
  },
  {
   "cell_type": "markdown",
   "id": "9d457b34",
   "metadata": {},
   "source": [
    "## Verification Phase"
   ]
  },
  {
   "cell_type": "code",
   "execution_count": 99,
   "id": "7a57b5a7",
   "metadata": {},
   "outputs": [],
   "source": [
    "def cswap_comparison(n):\n",
    "    # q1, q2 : qubits to compare\n",
    "    # for_measure : the qubits to measure\n",
    "    q1 = QuantumRegister(n)\n",
    "    q2 = QuantumRegister(n)\n",
    "    for_measure = QuantumRegister(n)\n",
    "    qc = QuantumCircuit(q1, q2, for_measure)\n",
    "    for i in range(n):\n",
    "        qc.h(for_measure[i])\n",
    "        qc.cswap(for_measure[i], q1[i], q2[i])\n",
    "        qc.h(for_measure[i])\n",
    "    return qc.to_instruction(label=\"swap test\")\n",
    "    # cswap measurement = 0 --> same"
   ]
  },
  {
   "cell_type": "code",
   "execution_count": 100,
   "id": "ad09dd24",
   "metadata": {},
   "outputs": [
    {
     "name": "stdout",
     "output_type": "stream",
     "text": [
      "\n",
      "\n",
      "\n",
      "\n"
     ]
    },
    {
     "data": {
      "text/plain": [
       "<qiskit.circuit.instructionset.InstructionSet at 0x1390e9ee0>"
      ]
     },
     "execution_count": 100,
     "metadata": {},
     "output_type": "execute_result"
    }
   ],
   "source": [
    "# step 1 : (P_enc, S_A) --> (P_enc, S_A)'\n",
    "P_enc_S_A = [*P_enc, *S_A]\n",
    "for i in range(2*n):\n",
    "    if r_BT[i] == 1 :\n",
    "        qc.x(P_enc_S_A[i])\n",
    "\n",
    "# step 2 : YB = encode K_BT(P_enc, S_A)'\n",
    "K_BT_2n = K_BT[:]\n",
    "K_BT_2n.remove(2*n)\n",
    "qc.append(chained_cnot_enc(2*n, K_BT_2n), [*P_enc, *S_A])\n",
    "\n",
    "# decrypt : YB --> (P_enc, S_A)'\n",
    "qc.append(chained_cnot_dec(2*n, K_BT_2n), [*P_enc, *S_A])\n",
    "\n",
    "# decrypt : (P_enc, S_A)' --> (P_enc, S_A)\n",
    "for i in range(2*n):\n",
    "    if r_BT[i] == 1 :\n",
    "        qc.x(P_enc_S_A[i])\n",
    "\n",
    "# decode everything for swap test comparison\n",
    "qc.append(chained_cnot_dec(n, K_AT), S_A)\n",
    "qc.append(chained_cnot_dec(n, K_R), S_A)\n",
    "qc.append(chained_cnot_dec(n, K_R), P_enc)"
   ]
  },
  {
   "cell_type": "code",
   "execution_count": 101,
   "id": "ec1c7174",
   "metadata": {},
   "outputs": [
    {
     "name": "stdout",
     "output_type": "stream",
     "text": [
      "{'0 0 0 0 0 0 0 0 0 0 0 1 1 1 0 0 0000 0000 0000 0000 0': 1, '0 0 0 0 0 0 0 0 1 1 1 1 1 1 0 0 0000 0000 0000 0000 0': 1, '0 0 0 0 0 0 0 0 1 0 0 1 1 0 1 0 0000 0000 0000 0000 0': 1, '0 0 0 0 0 0 0 0 0 0 1 0 0 0 1 0 0000 0000 0000 0000 0': 1, '0 0 0 0 0 0 0 0 0 0 1 1 0 0 1 1 0000 0000 0000 0000 0': 1, '0 0 0 0 0 0 0 0 0 0 1 1 1 0 1 0 0000 0000 0000 0000 0': 1, '0 0 0 0 0 0 0 0 1 1 1 0 1 0 0 0 0000 0000 0000 0000 0': 1, '0 0 0 0 0 0 0 0 1 0 0 1 0 1 0 0 0000 0000 0000 0000 0': 1, '0 0 0 0 0 0 0 0 1 1 1 1 0 0 1 0 0000 0000 0000 0000 0': 1, '0 0 0 0 0 0 0 0 0 0 1 0 0 1 0 0 0000 0000 0000 0000 0': 1}\n"
     ]
    },
    {
     "data": {
      "text/plain": [
       "<qiskit.circuit.instructionset.InstructionSet at 0x138459970>"
      ]
     },
     "execution_count": 101,
     "metadata": {},
     "output_type": "execute_result"
    }
   ],
   "source": [
    "# swap test\n",
    "qc.append(cswap_comparison(n), [*P_enc, *S_A, *cswap])\n",
    "qc.measure(cswap, cswap_measure)\n",
    "\n",
    "result = get_measurements(qc, 10)\n",
    "counts = result.get_counts()\n",
    "print(counts)\n",
    "\n",
    "# re-encode everything : S_A, P_enc \n",
    "qc.append(chained_cnot_enc(n, K_R), S_A) \n",
    "qc.append(chained_cnot_enc(n, K_AT), S_A)\n",
    "\n",
    "qc.append(chained_cnot_enc(n, K_R), P_enc)"
   ]
  },
  {
   "cell_type": "code",
   "execution_count": 102,
   "id": "5226b82b",
   "metadata": {},
   "outputs": [
    {
     "name": "stdout",
     "output_type": "stream",
     "text": [
      "True\n"
     ]
    }
   ],
   "source": [
    "# check if verifiable \n",
    "identical = True\n",
    "for key in counts:\n",
    "    if key[-6:-2] != '0000':\n",
    "        identical = False\n",
    "print(identical)"
   ]
  },
  {
   "cell_type": "code",
   "execution_count": 103,
   "id": "ef3ceb20",
   "metadata": {},
   "outputs": [
    {
     "data": {
      "text/plain": [
       "<qiskit.circuit.instructionset.InstructionSet at 0x1383ef400>"
      ]
     },
     "execution_count": 103,
     "metadata": {},
     "output_type": "execute_result"
    }
   ],
   "source": [
    "# Step 3 : Trent sends all to Bob\n",
    "if identical :\n",
    "    qc.x(verify)\n",
    "qc.append(chained_cnot_enc(2*n+1, K_BT), [*P_enc, *S_A, *verify])"
   ]
  },
  {
   "cell_type": "code",
   "execution_count": 104,
   "id": "05e133ea",
   "metadata": {},
   "outputs": [
    {
     "name": "stdout",
     "output_type": "stream",
     "text": [
      "\n",
      "{'0 0 0 0 0 0 0 0 0 0 0 1 0 0 1 1 0000 0000 0000 0000 1': 1, '0 0 0 0 0 0 0 0 1 0 0 0 1 0 0 1 0000 0000 0000 0000 1': 1, '0 0 0 0 0 0 0 0 0 1 1 0 0 0 0 1 0000 0000 0000 0000 1': 1, '0 0 0 0 0 0 0 0 0 0 1 0 1 1 1 1 0000 0000 0000 0000 1': 1, '0 0 0 0 0 0 0 0 0 1 1 0 1 0 1 0 0000 0000 0000 0000 1': 1, '0 0 0 0 0 0 0 0 1 1 1 0 1 1 1 0 0000 0000 0000 0000 1': 1, '0 0 0 0 0 0 0 0 1 0 0 1 0 1 1 1 0000 0000 0000 0000 1': 1, '0 0 0 0 0 0 0 0 1 0 0 0 1 1 1 0 0000 0000 0000 0000 1': 1, '0 0 0 0 0 0 0 0 1 1 1 0 0 1 1 1 0000 0000 0000 0000 1': 1, '0 0 0 0 0 0 0 0 0 0 0 1 0 1 1 1 0000 0000 0000 0000 1': 1}\n"
     ]
    }
   ],
   "source": [
    "# Step 4 : Bob decrypts YTB and measures verify bit\n",
    "qc.append(chained_cnot_dec(2*n+1, K_BT), [*P_enc, *S_A, *verify])\n",
    "qc.measure(verify, verify_measure)\n",
    "\n",
    "result = get_measurements(qc, 10)\n",
    "counts = result.get_counts()\n",
    "print(counts)"
   ]
  },
  {
   "cell_type": "code",
   "execution_count": 105,
   "id": "2f468ed0",
   "metadata": {},
   "outputs": [
    {
     "name": "stdout",
     "output_type": "stream",
     "text": [
      "True\n"
     ]
    }
   ],
   "source": [
    "verified = True\n",
    "for key in counts : \n",
    "    if key[-1] != '1':\n",
    "        verified = False\n",
    "print(verified)"
   ]
  },
  {
   "cell_type": "code",
   "execution_count": 106,
   "id": "2794607d",
   "metadata": {},
   "outputs": [],
   "source": [
    "# Step 5 : Bob recovers P_enc from MA if verified is true\n",
    "qc.append(bell_measurement(n), [*M_A_1, *M_A_2])\n",
    "for i in range(n):\n",
    "    qc.measure(M_A_1[i], measure_M_A_1[i])\n",
    "    qc.measure(M_A_2[i], measure_M_A_2[i])\n",
    "    qc.z(B_bell[i]).c_if(measure_M_A_1[i], 1)\n",
    "    qc.x(B_bell[i]).c_if(measure_M_A_2[i], 1)\n",
    "    "
   ]
  },
  {
   "cell_type": "code",
   "execution_count": 107,
   "id": "a6b8df52",
   "metadata": {},
   "outputs": [
    {
     "data": {
      "text/html": [
       "<pre style=\"word-wrap: normal;white-space: pre;background: #fff0;line-height: 1.1;font-family: &quot;Courier New&quot;,Courier,monospace\">                     ┌──────────────────────────────────────────────┐                                                                                                                                                                                                                                                                                                                                                                                                                  \n",
       "     p_original_0: ──┤ Initialize(0.21037-0.4842j,0.29757+0.79545j) ├──────────────────────────────────────────────────────────────────────────────────────────────────────────────────────────────────────────────────────────────────────────────────────────────────────────────────────────────────────────────────────────────────────────────────────────────────────────────────────────────────────────────────────────────────────────────────────────────────────────────────\n",
       "                   ┌─┴──────────────────────────────────────────────┴┐                                                                                                                                                                                                                                                                                                                                                                                                                 \n",
       "     p_original_1: ┤ Initialize(-0.2923-0.089584j,-0.35791-0.88229j) ├─────────────────────────────────────────────────────────────────────────────────────────────────────────────────────────────────────────────────────────────────────────────────────────────────────────────────────────────────────────────────────────────────────────────────────────────────────────────────────────────────────────────────────────────────────────────────────────────────────────────────\n",
       "                   ├─────────────────────────────────────────────────┤                                                                                                                                                                                                                                                                                                                                                                                                                 \n",
       "     p_original_2: ┤ Initialize(-0.95895-0.10831j,-0.18162+0.18896j) ├─────────────────────────────────────────────────────────────────────────────────────────────────────────────────────────────────────────────────────────────────────────────────────────────────────────────────────────────────────────────────────────────────────────────────────────────────────────────────────────────────────────────────────────────────────────────────────────────────────────────────\n",
       "                   ├─────────────────────────────────────────────────┤                                                                                                                                                                                                                                                                                                                                                                                                                 \n",
       "     p_original_3: ┤ Initialize(-0.058567-0.54835j,-0.16208+0.8183j) ├─────────────────────────────────────────────────────────────────────────────────────────────────────────────────────────────────────────────────────────────────────────────────────────────────────────────────────────────────────────────────────────────────────────────────────────────────────────────────────────────────────────────────────────────────────────────────────────────────────────────────\n",
       "                   └─┬──────────────────────────────────────────────┬┘┌───────────────────┐                          ┌───────────────────┐┌───────────────────┐     ┌───────────────────┐                                                                                                                                                                                        ┌─────────────┐┌───────────────────┐                     ┌───────────────────┐┌───────────────────┐   \n",
       "          p_enc_0: ──┤ Initialize(0.21037-0.4842j,0.29757+0.79545j) ├─┤0                  ├──────────────────────────┤0                  ├┤0                  ├─────┤0                  ├────────────────────────────────────────────────────────────────────────────────────────────────────────────────────────────────────────────────────────────────────────────────────────┤0            ├┤0                  ├─────────────────────┤0                  ├┤0                  ├───\n",
       "                   ┌─┴──────────────────────────────────────────────┴┐│                   │        ┌───┐             │                   ││                   │┌───┐│                   │                                                                                                                                                                                        │             ││                   │                     │                   ││                   │   \n",
       "          p_enc_1: ┤ Initialize(-0.2923-0.089584j,-0.35791-0.88229j) ├┤1                  ├────────┤ X ├─────────────┤1                  ├┤1                  ├┤ X ├┤1                  ├────────────────────────────────────────────────────────────────────────────────────────────────────────────────────────────────────────────────────────────────────────────────────────┤1            ├┤1                  ├─────────────────────┤1                  ├┤1                  ├───\n",
       "                   ├─────────────────────────────────────────────────┤│  chained_cnot_enc │        └───┘             │                   ││                   │└───┘│  chained_cnot_dec │                                                                                                                                                                                        │             ││  chained_cnot_enc │                     │                   ││                   │   \n",
       "          p_enc_2: ┤ Initialize(-0.95895-0.10831j,-0.18162+0.18896j) ├┤2                  ├──────────────────────────┤2                  ├┤2                  ├─────┤2                  ├────────────────────────────────────────────────────────────────────────────────────────────────────────────────────────────────────────────────────────────────────────────────────────┤2            ├┤2                  ├─────────────────────┤2                  ├┤2                  ├───\n",
       "                   ├─────────────────────────────────────────────────┤│                   │                          │                   ││                   │     │                   │                                                                                                                                                                                        │             ││                   │                     │                   ││                   │   \n",
       "          p_enc_3: ┤ Initialize(-0.058567-0.54835j,-0.16208+0.8183j) ├┤3                  ├──────────────────────────┤3                  ├┤3                  ├─────┤3                  ├────────────────────────────────────────────────────────────────────────────────────────────────────────────────────────────────────────────────────────────────────────────────────────┤3            ├┤3                  ├─────────────────────┤3                  ├┤3                  ├───\n",
       "                   └─┬──────────────────────────────────────────────┬┘├───────────────────┤┌───────────────────┐┌───┐│  chained_cnot_enc ││  chained_cnot_dec │┌───┐├───────────────────┤┌───────────────────┐                                                                                                                                                                   │             │├───────────────────┤┌───────────────────┐│                   ││                   │   \n",
       "            s_a_0: ──┤ Initialize(0.21037-0.4842j,0.29757+0.79545j) ├─┤0                  ├┤0                  ├┤ X ├┤4                  ├┤4                  ├┤ X ├┤0                  ├┤0                  ├───────────────────────────────────────────────────────────────────────────────────────────────────────────────────────────────────────────────────────────────────┤4            ├┤0                  ├┤0                  ├┤4                  ├┤4                  ├───\n",
       "                   ┌─┴──────────────────────────────────────────────┴┐│                   ││                   │├───┤│                   ││                   │├───┤│                   ││                   │                                                                                                                                                                   │             ││                   ││                   ││                   ││                   │   \n",
       "            s_a_1: ┤ Initialize(-0.2923-0.089584j,-0.35791-0.88229j) ├┤1                  ├┤1                  ├┤ X ├┤5                  ├┤5                  ├┤ X ├┤1                  ├┤1                  ├───────────────────────────────────────────────────────────────────────────────────────────────────────────────────────────────────────────────────────────────────┤5            ├┤1                  ├┤1                  ├┤5                  ├┤5                  ├───\n",
       "                   ├─────────────────────────────────────────────────┤│  chained_cnot_enc ││  chained_cnot_enc │└───┘│                   ││                   │└───┘│  chained_cnot_dec ││  chained_cnot_dec │                                                                                                                                                                   │             ││  chained_cnot_enc ││  chained_cnot_enc ││                   ││                   │   \n",
       "            s_a_2: ┤ Initialize(-0.95895-0.10831j,-0.18162+0.18896j) ├┤2                  ├┤2                  ├─────┤6                  ├┤6                  ├─────┤2                  ├┤2                  ├───────────────────────────────────────────────────────────────────────────────────────────────────────────────────────────────────────────────────────────────────┤6            ├┤2                  ├┤2                  ├┤6                  ├┤6                  ├───\n",
       "                   ├─────────────────────────────────────────────────┤│                   ││                   │┌───┐│                   ││                   │┌───┐│                   ││                   │                                                                                                                                                                   │             ││                   ││                   ││                   ││                   │   \n",
       "            s_a_3: ┤ Initialize(-0.058567-0.54835j,-0.16208+0.8183j) ├┤3                  ├┤3                  ├┤ X ├┤7                  ├┤7                  ├┤ X ├┤3                  ├┤3                  ├───────────────────────────────────────────────────────────────────────────────────────────────────────────────────────────────────────────────────────────────────┤7            ├┤3                  ├┤3                  ├┤7                  ├┤7                  ├───\n",
       "                   └─────────────────┬─────────────┬─────────────────┘└───────────────────┘└───────────────────┘└───┘└───────────────────┘└───────────────────┘└───┘└───────────────────┘└───────────────────┘       ┌───┐                                                  ┌───────────────────┐┌─┐                                                                             │             │└───────────────────┘└───────────────────┘│                   ││                   │   \n",
       "          m_a_1_0: ──────────────────┤0            ├─────────────────────────────────────────────────────────────────────────────────────────────────────────────────────────────────────────────────────────────────┤ Z ├──────────────────────────────────────────────────┤0                  ├┤M├─────────────────────────────────────────────────────────────────────────────┤             ├──────────────────────────────────────────┤                   ├┤                   ├───\n",
       "                                     │             │                                                                                                                                                                 └─╥─┘         ┌───┐                                    │                   │└╥┘   ┌─┐                                                                       │             │                                          │                   ││                   │   \n",
       "          m_a_1_1: ──────────────────┤1            ├───────────────────────────────────────────────────────────────────────────────────────────────────────────────────────────────────────────────────────────────────╫───────────┤ Z ├────────────────────────────────────┤1                  ├─╫────┤M├───────────────────────────────────────────────────────────────────────┤             ├──────────────────────────────────────────┤                   ├┤                   ├───\n",
       "                                     │             │                                                                                                                                                                   ║           └─╥─┘         ┌───┐                      │                   │ ║    └╥┘   ┌─┐                                                                 │             │                                          │                   ││                   │   \n",
       "          m_a_1_2: ──────────────────┤2            ├───────────────────────────────────────────────────────────────────────────────────────────────────────────────────────────────────────────────────────────────────╫─────────────╫───────────┤ Z ├──────────────────────┤2                  ├─╫─────╫────┤M├─────────────────────────────────────────────────────────────────┤             ├──────────────────────────────────────────┤                   ├┤                   ├───\n",
       "                                     │             │                                                                                                                                                                   ║             ║           └─╥─┘         ┌───┐        │                   │ ║     ║    └╥┘   ┌─┐                                                           │             │                                          │                   ││                   │   \n",
       "          m_a_1_3: ──────────────────┤3            ├───────────────────────────────────────────────────────────────────────────────────────────────────────────────────────────────────────────────────────────────────╫─────────────╫─────────────╫───────────┤ Z ├────────┤3                  ├─╫─────╫─────╫────┤M├───────────────────────────────────────────────────────────┤             ├──────────────────────────────────────────┤                   ├┤                   ├───\n",
       "                                     │  bell_state │                                                                                                                                                                   ║    ┌───┐    ║             ║           └─╥─┘        │  bell_measurement │ ║ ┌─┐ ║     ║    └╥┘                                                           │             │                                          │                   ││                   │   \n",
       "          m_a_2_0: ──────────────────┤4            ├───────────────────────────────────────────────────────────────────────────────────────────────────────────────────────────────────────────────────────────────────╫────┤ X ├────╫─────────────╫─────────────╫──────────┤4                  ├─╫─┤M├─╫─────╫─────╫────────────────────────────────────────────────────────────┤             ├──────────────────────────────────────────┤                   ├┤                   ├───\n",
       "                                     │             │                                                                                                                                                                   ║    └─╥─┘    ║    ┌───┐    ║             ║          │                   │ ║ └╥┘ ║ ┌─┐ ║     ║                                                            │             │                                          │                   ││                   │   \n",
       "          m_a_2_1: ──────────────────┤5            ├───────────────────────────────────────────────────────────────────────────────────────────────────────────────────────────────────────────────────────────────────╫──────╫──────╫────┤ X ├────╫─────────────╫──────────┤5                  ├─╫──╫──╫─┤M├─╫─────╫────────────────────────────────────────────────────────────┤             ├──────────────────────────────────────────┤                   ├┤                   ├───\n",
       "                                     │             │                                                                                                                                                                   ║      ║      ║    └─╥─┘    ║    ┌───┐    ║          │                   │ ║  ║  ║ └╥┘ ║ ┌─┐ ║                                                            │             │                                          │                   ││                   │   \n",
       "          m_a_2_2: ──────────────────┤6            ├───────────────────────────────────────────────────────────────────────────────────────────────────────────────────────────────────────────────────────────────────╫──────╫──────╫──────╫──────╫────┤ X ├────╫──────────┤6                  ├─╫──╫──╫──╫──╫─┤M├─╫────────────────────────────────────────────────────────────┤             ├──────────────────────────────────────────┤  chained_cnot_enc ├┤  chained_cnot_dec ├───\n",
       "                                     │             │                                                                                                                                                                   ║      ║      ║      ║      ║    └─╥─┘    ║    ┌───┐ │                   │ ║  ║  ║  ║  ║ └╥┘ ║ ┌─┐                                                        │             │                                          │                   ││                   │   \n",
       "          m_a_2_3: ──────────────────┤7            ├───────────────────────────────────────────────────────────────────────────────────────────────────────────────────────────────────────────────────────────────────╫──────╫──────╫──────╫──────╫──────╫──────╫────┤ X ├─┤7                  ├─╫──╫──╫──╫──╫──╫──╫─┤M├────────────────────────────────────────────────────────┤             ├──────────────────────────────────────────┤                   ├┤                   ├───\n",
       "                                     ├─────────────┤                                       ┌───────────────────┐ ┌─┐                                                                                                   ║      ║      ║      ║      ║      ║      ║    └─╥─┘ └───────────────────┘ ║  ║  ║  ║  ║  ║  ║ └╥┘                                                        │             │                                          │                   ││                   │   \n",
       "     alice_bell_0: ──────────────────┤0            ├───────────────────────────────────────┤0                  ├─┤M├───────────────────────────────────────────────────────────────────────────────────────────────────╫──────╫──────╫──────╫──────╫──────╫──────╫──────╫─────────────────────────╫──╫──╫──╫──╫──╫──╫──╫─────────────────────────────────────────────────────────┤   swap test ├──────────────────────────────────────────┤                   ├┤                   ├───\n",
       "                                     │             │                                       │                   │ └╥┘                               ┌─┐                                                                 ║      ║      ║      ║      ║      ║      ║      ║                         ║  ║  ║  ║  ║  ║  ║  ║                                                         │             │                                          │                   ││                   │   \n",
       "     alice_bell_1: ──────────────────┤1            ├───────────────────────────────────────┤1                  ├──╫────────────────────────────────┤M├─────────────────────────────────────────────────────────────────╫──────╫──────╫──────╫──────╫──────╫──────╫──────╫─────────────────────────╫──╫──╫──╫──╫──╫──╫──╫─────────────────────────────────────────────────────────┤             ├──────────────────────────────────────────┤                   ├┤                   ├───\n",
       "                                     │             │                                       │                   │  ║                                └╥┘                       ┌─┐                                       ║      ║      ║      ║      ║      ║      ║      ║                         ║  ║  ║  ║  ║  ║  ║  ║                                                         │             │                                          │                   ││                   │   \n",
       "     alice_bell_2: ──────────────────┤2            ├───────────────────────────────────────┤2                  ├──╫─────────────────────────────────╫────────────────────────┤M├───────────────────────────────────────╫──────╫──────╫──────╫──────╫──────╫──────╫──────╫─────────────────────────╫──╫──╫──╫──╫──╫──╫──╫─────────────────────────────────────────────────────────┤             ├──────────────────────────────────────────┤                   ├┤                   ├───\n",
       "                                     │             │                                       │                   │  ║                                 ║                        └╥┘                              ┌─┐      ║      ║      ║      ║      ║      ║      ║      ║                         ║  ║  ║  ║  ║  ║  ║  ║                                                         │             │                                          │                   ││                   │   \n",
       "     alice_bell_3: ──────────────────┤3            ├───────────────────────────────────────┤3                  ├──╫─────────────────────────────────╫─────────────────────────╫───────────────────────────────┤M├──────╫──────╫──────╫──────╫──────╫──────╫──────╫──────╫─────────────────────────╫──╫──╫──╫──╫──╫──╫──╫─────────────────────────────────────────────────────────┤             ├──────────────────────────────────────────┤                   ├┤                   ├───\n",
       "                                     │  bell_state │                                       │                   │  ║                                 ║                         ║                               └╥┘      ║      ║      ║      ║      ║      ║      ║      ║                         ║  ║  ║  ║  ║  ║  ║  ║  ┌───┐                       ┌───┐                      │             │                                          │                   ││                   │   \n",
       "       bob_bell_0: ──────────────────┤4            ├───────────────────────────────────────┤                   ├──╫─────────────────────────────────╫─────────────────────────╫────────────────────────────────╫───────╫──────╫──────╫──────╫──────╫──────╫──────╫──────╫─────────────────────────╫──╫──╫──╫──╫──╫──╫──╫──┤ Z ├───────────────────────┤ X ├──────────────────────┤             ├──────────────────────────────────────────┤                   ├┤                   ├───\n",
       "                                     │             │                                       │                   │  ║                                 ║                         ║                                ║       ║      ║      ║      ║      ║      ║      ║      ║                         ║  ║  ║  ║  ║  ║  ║  ║  └─╥─┘  ┌───┐                └─╥─┘  ┌───┐               │             │                                          │                   ││                   │   \n",
       "       bob_bell_1: ──────────────────┤5            ├───────────────────────────────────────┤                   ├──╫─────────────────────────────────╫─────────────────────────╫────────────────────────────────╫───────╫──────╫──────╫──────╫──────╫──────╫──────╫──────╫─────────────────────────╫──╫──╫──╫──╫──╫──╫──╫────╫────┤ Z ├──────────────────╫────┤ X ├───────────────┤             ├──────────────────────────────────────────┤                   ├┤                   ├───\n",
       "                                     │             │                                       │  bell_measurement │  ║                                 ║                         ║                                ║       ║      ║      ║      ║      ║      ║      ║      ║                         ║  ║  ║  ║  ║  ║  ║  ║    ║    └─╥─┘  ┌───┐           ║    └─╥─┘  ┌───┐        │             │                                          │                   ││                   │   \n",
       "       bob_bell_2: ──────────────────┤6            ├───────────────────────────────────────┤                   ├──╫─────────────────────────────────╫─────────────────────────╫────────────────────────────────╫───────╫──────╫──────╫──────╫──────╫──────╫──────╫──────╫─────────────────────────╫──╫──╫──╫──╫──╫──╫──╫────╫──────╫────┤ Z ├───────────╫──────╫────┤ X ├────────┤             ├──────────────────────────────────────────┤                   ├┤                   ├───\n",
       "                                     │             │                                       │                   │  ║                                 ║                         ║                                ║       ║      ║      ║      ║      ║      ║      ║      ║                         ║  ║  ║  ║  ║  ║  ║  ║    ║      ║    └─╥─┘  ┌───┐    ║      ║    └─╥─┘  ┌───┐ │             │                                          │                   ││                   │   \n",
       "       bob_bell_3: ──────────────────┤7            ├───────────────────────────────────────┤                   ├──╫─────────────────────────────────╫─────────────────────────╫────────────────────────────────╫───────╫──────╫──────╫──────╫──────╫──────╫──────╫──────╫─────────────────────────╫──╫──╫──╫──╫──╫──╫──╫────╫──────╫──────╫────┤ Z ├────╫──────╫──────╫────┤ X ├─┤             ├──────────────────────────────────────────┤                   ├┤                   ├───\n",
       "                     ┌───────────────┴─────────────┴────────────────┐ ┌───────────────────┐│                   │  ║           ┌─┐                   ║                         ║                                ║       ║      ║      ║      ║      ║      ║      ║      ║                         ║  ║  ║  ║  ║  ║  ║  ║    ║      ║      ║    └─╥─┘    ║      ║      ║    └─╥─┘ │             │                                          │                   ││                   │   \n",
       "        m_a_mea_0: ──┤ Initialize(0.21037-0.4842j,0.29757+0.79545j) ├─┤0                  ├┤4                  ├──╫───────────┤M├───────────────────╫─────────────────────────╫────────────────────────────────╫───────╫──────╫──────╫──────╫──────╫──────╫──────╫──────╫─────────────────────────╫──╫──╫──╫──╫──╫──╫──╫────╫──────╫──────╫──────╫──────╫──────╫──────╫──────╫───┤             ├──────────────────────────────────────────┤                   ├┤                   ├───\n",
       "                   ┌─┴──────────────────────────────────────────────┴┐│                   ││                   │  ║           └╥┘                   ║           ┌─┐           ║                                ║       ║      ║      ║      ║      ║      ║      ║      ║                         ║  ║  ║  ║  ║  ║  ║  ║    ║      ║      ║      ║      ║      ║      ║      ║   │             │                                          │                   ││                   │   \n",
       "        m_a_mea_1: ┤ Initialize(-0.2923-0.089584j,-0.35791-0.88229j) ├┤1                  ├┤5                  ├──╫────────────╫────────────────────╫───────────┤M├───────────╫────────────────────────────────╫───────╫──────╫──────╫──────╫──────╫──────╫──────╫──────╫─────────────────────────╫──╫──╫──╫──╫──╫──╫──╫────╫──────╫──────╫──────╫──────╫──────╫──────╫──────╫───┤             ├──────────────────────────────────────────┤                   ├┤                   ├───\n",
       "                   ├─────────────────────────────────────────────────┤│  chained_cnot_enc ││                   │  ║            ║                    ║           └╥┘           ║                   ┌─┐          ║       ║      ║      ║      ║      ║      ║      ║      ║                         ║  ║  ║  ║  ║  ║  ║  ║    ║      ║      ║      ║      ║      ║      ║      ║   │             │                                          │                   ││                   │   \n",
       "        m_a_mea_2: ┤ Initialize(-0.95895-0.10831j,-0.18162+0.18896j) ├┤2                  ├┤6                  ├──╫────────────╫────────────────────╫────────────╫────────────╫───────────────────┤M├──────────╫───────╫──────╫──────╫──────╫──────╫──────╫──────╫──────╫─────────────────────────╫──╫──╫──╫──╫──╫──╫──╫────╫──────╫──────╫──────╫──────╫──────╫──────╫──────╫───┤             ├──────────────────────────────────────────┤                   ├┤                   ├───\n",
       "                   ├─────────────────────────────────────────────────┤│                   ││                   │  ║            ║                    ║            ║            ║                   └╥┘          ║ ┌─┐   ║      ║      ║      ║      ║      ║      ║      ║                         ║  ║  ║  ║  ║  ║  ║  ║    ║      ║      ║      ║      ║      ║      ║      ║   │             │                                          │                   ││                   │   \n",
       "        m_a_mea_3: ┤ Initialize(-0.058567-0.54835j,-0.16208+0.8183j) ├┤3                  ├┤7                  ├──╫────────────╫────────────────────╫────────────╫────────────╫────────────────────╫───────────╫─┤M├───╫──────╫──────╫──────╫──────╫──────╫──────╫──────╫─────────────────────────╫──╫──╫──╫──╫──╫──╫──╫────╫──────╫──────╫──────╫──────╫──────╫──────╫──────╫───┤             ├──────────────────────────────────────────┤                   ├┤                   ├───\n",
       "                   └──────────────────────┬───┬──────────────────────┘└───────────────────┘└───────────────────┘  ║            ║                    ║            ║            ║                    ║           ║ └╥┘   ║      ║      ║      ║      ║      ║      ║      ║                         ║  ║  ║  ║  ║  ║  ║  ║    ║      ║      ║      ║      ║      ║      ║      ║   │             │                                          │                   ││                   │┌─┐\n",
       "         verify_0: ───────────────────────┤ X ├───────────────────────────────────────────────────────────────────╫────────────╫────────────────────╫────────────╫────────────╫────────────────────╫───────────╫──╫────╫──────╫──────╫──────╫──────╫──────╫──────╫──────╫─────────────────────────╫──╫──╫──╫──╫──╫──╫──╫────╫──────╫──────╫──────╫──────╫──────╫──────╫──────╫───┤             ├──────────────────────────────────────────┤8                  ├┤8                  ├┤M├\n",
       "                                          └───┘                                                                   ║            ║                    ║            ║            ║                    ║           ║  ║    ║      ║      ║      ║      ║      ║      ║      ║                         ║  ║  ║  ║  ║  ║  ║  ║    ║      ║      ║      ║      ║      ║      ║      ║   │             │         ┌─┐                              └───────────────────┘└───────────────────┘└╥┘\n",
       "          cswap_0: ───────────────────────────────────────────────────────────────────────────────────────────────╫────────────╫────────────────────╫────────────╫────────────╫────────────────────╫───────────╫──╫────╫──────╫──────╫──────╫──────╫──────╫──────╫──────╫─────────────────────────╫──╫──╫──╫──╫──╫──╫──╫────╫──────╫──────╫──────╫──────╫──────╫──────╫──────╫───┤8            ├─────────┤M├─────────────────────────────────────────────────────────────────────────╫─\n",
       "                                                                                                                  ║            ║                    ║            ║            ║                    ║           ║  ║    ║      ║      ║      ║      ║      ║      ║      ║                         ║  ║  ║  ║  ║  ║  ║  ║    ║      ║      ║      ║      ║      ║      ║      ║   │             │         └╥┘                  ┌─┐                                                    ║ \n",
       "          cswap_1: ───────────────────────────────────────────────────────────────────────────────────────────────╫────────────╫────────────────────╫────────────╫────────────╫────────────────────╫───────────╫──╫────╫──────╫──────╫──────╫──────╫──────╫──────╫──────╫─────────────────────────╫──╫──╫──╫──╫──╫──╫──╫────╫──────╫──────╫──────╫──────╫──────╫──────╫──────╫───┤9            ├──────────╫───────────────────┤M├────────────────────────────────────────────────────╫─\n",
       "                                                                                                                  ║            ║                    ║            ║            ║                    ║           ║  ║    ║      ║      ║      ║      ║      ║      ║      ║                         ║  ║  ║  ║  ║  ║  ║  ║    ║      ║      ║      ║      ║      ║      ║      ║   │             │          ║                   └╥┘                  ┌─┐                               ║ \n",
       "          cswap_2: ───────────────────────────────────────────────────────────────────────────────────────────────╫────────────╫────────────────────╫────────────╫────────────╫────────────────────╫───────────╫──╫────╫──────╫──────╫──────╫──────╫──────╫──────╫──────╫─────────────────────────╫──╫──╫──╫──╫──╫──╫──╫────╫──────╫──────╫──────╫──────╫──────╫──────╫──────╫───┤10           ├──────────╫────────────────────╫───────────────────┤M├───────────────────────────────╫─\n",
       "                                                                                                                  ║            ║                    ║            ║            ║                    ║           ║  ║    ║      ║      ║      ║      ║      ║      ║      ║                         ║  ║  ║  ║  ║  ║  ║  ║    ║      ║      ║      ║      ║      ║      ║      ║   │             │          ║                    ║                   └╥┘                  ┌─┐          ║ \n",
       "          cswap_3: ───────────────────────────────────────────────────────────────────────────────────────────────╫────────────╫────────────────────╫────────────╫────────────╫────────────────────╫───────────╫──╫────╫──────╫──────╫──────╫──────╫──────╫──────╫──────╫─────────────────────────╫──╫──╫──╫──╫──╫──╫──╫────╫──────╫──────╫──────╫──────╫──────╫──────╫──────╫───┤11           ├──────────╫────────────────────╫────────────────────╫───────────────────┤M├──────────╫─\n",
       "                                                                                                                  ║            ║                    ║            ║            ║                    ║           ║  ║    ║      ║      ║      ║      ║      ║      ║      ║                         ║  ║  ║  ║  ║  ║  ║  ║    ║      ║      ║      ║      ║      ║      ║      ║   └─────────────┘          ║                    ║                    ║                   └╥┘          ║ \n",
       "        cswap_2_0: ───────────────────────────────────────────────────────────────────────────────────────────────╫────────────╫────────────────────╫────────────╫────────────╫────────────────────╫───────────╫──╫────╫──────╫──────╫──────╫──────╫──────╫──────╫──────╫─────────────────────────╫──╫──╫──╫──╫──╫──╫──╫────╫──────╫──────╫──────╫──────╫──────╫──────╫──────╫────────────────────────────╫────────────────────╫────────────────────╫────────────────────╫───────────╫─\n",
       "                                                                                                                  ║            ║                    ║            ║            ║                    ║           ║  ║    ║      ║      ║      ║      ║      ║      ║      ║                         ║  ║  ║  ║  ║  ║  ║  ║    ║      ║      ║      ║      ║      ║      ║      ║                            ║                    ║                    ║                    ║           ║ \n",
       "        cswap_2_1: ───────────────────────────────────────────────────────────────────────────────────────────────╫────────────╫────────────────────╫────────────╫────────────╫────────────────────╫───────────╫──╫────╫──────╫──────╫──────╫──────╫──────╫──────╫──────╫─────────────────────────╫──╫──╫──╫──╫──╫──╫──╫────╫──────╫──────╫──────╫──────╫──────╫──────╫──────╫────────────────────────────╫────────────────────╫────────────────────╫────────────────────╫───────────╫─\n",
       "                                                                                                                  ║            ║                    ║            ║            ║                    ║           ║  ║    ║      ║      ║      ║      ║      ║      ║      ║                         ║  ║  ║  ║  ║  ║  ║  ║    ║      ║      ║      ║      ║      ║      ║      ║                            ║                    ║                    ║                    ║           ║ \n",
       "        cswap_2_2: ───────────────────────────────────────────────────────────────────────────────────────────────╫────────────╫────────────────────╫────────────╫────────────╫────────────────────╫───────────╫──╫────╫──────╫──────╫──────╫──────╫──────╫──────╫──────╫─────────────────────────╫──╫──╫──╫──╫──╫──╫──╫────╫──────╫──────╫──────╫──────╫──────╫──────╫──────╫────────────────────────────╫────────────────────╫────────────────────╫────────────────────╫───────────╫─\n",
       "                                                                                                                  ║            ║                    ║            ║            ║                    ║           ║  ║    ║      ║      ║      ║      ║      ║      ║      ║                         ║  ║  ║  ║  ║  ║  ║  ║    ║      ║      ║      ║      ║      ║      ║      ║                            ║                    ║                    ║                    ║           ║ \n",
       "        cswap_2_3: ───────────────────────────────────────────────────────────────────────────────────────────────╫────────────╫────────────────────╫────────────╫────────────╫────────────────────╫───────────╫──╫────╫──────╫──────╫──────╫──────╫──────╫──────╫──────╫─────────────────────────╫──╫──╫──╫──╫──╫──╫──╫────╫──────╫──────╫──────╫──────╫──────╫──────╫──────╫────────────────────────────╫────────────────────╫────────────────────╫────────────────────╫───────────╫─\n",
       "                                                                                                                  ║            ║                    ║            ║            ║                    ║           ║  ║    ║      ║      ║      ║      ║      ║      ║      ║                         ║  ║  ║  ║  ║  ║  ║  ║    ║      ║      ║      ║      ║      ║      ║      ║                            ║                    ║                    ║                    ║           ║ \n",
       "        cswap_3_0: ───────────────────────────────────────────────────────────────────────────────────────────────╫────────────╫────────────────────╫────────────╫────────────╫────────────────────╫───────────╫──╫────╫──────╫──────╫──────╫──────╫──────╫──────╫──────╫─────────────────────────╫──╫──╫──╫──╫──╫──╫──╫────╫──────╫──────╫──────╫──────╫──────╫──────╫──────╫────────────────────────────╫────────────────────╫────────────────────╫────────────────────╫───────────╫─\n",
       "                                                                                                                  ║            ║                    ║            ║            ║                    ║           ║  ║    ║      ║      ║      ║      ║      ║      ║      ║                         ║  ║  ║  ║  ║  ║  ║  ║    ║      ║      ║      ║      ║      ║      ║      ║                            ║                    ║                    ║                    ║           ║ \n",
       "        cswap_3_1: ───────────────────────────────────────────────────────────────────────────────────────────────╫────────────╫────────────────────╫────────────╫────────────╫────────────────────╫───────────╫──╫────╫──────╫──────╫──────╫──────╫──────╫──────╫──────╫─────────────────────────╫──╫──╫──╫──╫──╫──╫──╫────╫──────╫──────╫──────╫──────╫──────╫──────╫──────╫────────────────────────────╫────────────────────╫────────────────────╫────────────────────╫───────────╫─\n",
       "                                                                                                                  ║            ║                    ║            ║            ║                    ║           ║  ║    ║      ║      ║      ║      ║      ║      ║      ║                         ║  ║  ║  ║  ║  ║  ║  ║    ║      ║      ║      ║      ║      ║      ║      ║                            ║                    ║                    ║                    ║           ║ \n",
       "        cswap_3_2: ───────────────────────────────────────────────────────────────────────────────────────────────╫────────────╫────────────────────╫────────────╫────────────╫────────────────────╫───────────╫──╫────╫──────╫──────╫──────╫──────╫──────╫──────╫──────╫─────────────────────────╫──╫──╫──╫──╫──╫──╫──╫────╫──────╫──────╫──────╫──────╫──────╫──────╫──────╫────────────────────────────╫────────────────────╫────────────────────╫────────────────────╫───────────╫─\n",
       "                                                                                                                  ║            ║                    ║            ║            ║                    ║           ║  ║    ║      ║      ║      ║      ║      ║      ║      ║                         ║  ║  ║  ║  ║  ║  ║  ║    ║      ║      ║      ║      ║      ║      ║      ║                            ║                    ║                    ║                    ║           ║ \n",
       "        cswap_3_3: ───────────────────────────────────────────────────────────────────────────────────────────────╫────────────╫────────────────────╫────────────╫────────────╫────────────────────╫───────────╫──╫────╫──────╫──────╫──────╫──────╫──────╫──────╫──────╫─────────────────────────╫──╫──╫──╫──╫──╫──╫──╫────╫──────╫──────╫──────╫──────╫──────╫──────╫──────╫────────────────────────────╫────────────────────╫────────────────────╫────────────────────╫───────────╫─\n",
       "                                                                                                                  ║            ║                    ║            ║            ║                    ║           ║  ║    ║      ║      ║      ║      ║      ║      ║      ║                         ║  ║  ║  ║  ║  ║  ║  ║    ║      ║      ║      ║      ║      ║      ║      ║                            ║                    ║                    ║                    ║           ║ \n",
       "        cswap_4_0: ───────────────────────────────────────────────────────────────────────────────────────────────╫────────────╫────────────────────╫────────────╫────────────╫────────────────────╫───────────╫──╫────╫──────╫──────╫──────╫──────╫──────╫──────╫──────╫─────────────────────────╫──╫──╫──╫──╫──╫──╫──╫────╫──────╫──────╫──────╫──────╫──────╫──────╫──────╫────────────────────────────╫────────────────────╫────────────────────╫────────────────────╫───────────╫─\n",
       "                                                                                                                  ║            ║                    ║            ║            ║                    ║           ║  ║    ║      ║      ║      ║      ║      ║      ║      ║                         ║  ║  ║  ║  ║  ║  ║  ║    ║      ║      ║      ║      ║      ║      ║      ║                            ║                    ║                    ║                    ║           ║ \n",
       "        cswap_4_1: ───────────────────────────────────────────────────────────────────────────────────────────────╫────────────╫────────────────────╫────────────╫────────────╫────────────────────╫───────────╫──╫────╫──────╫──────╫──────╫──────╫──────╫──────╫──────╫─────────────────────────╫──╫──╫──╫──╫──╫──╫──╫────╫──────╫──────╫──────╫──────╫──────╫──────╫──────╫────────────────────────────╫────────────────────╫────────────────────╫────────────────────╫───────────╫─\n",
       "                                                                                                                  ║            ║                    ║            ║            ║                    ║           ║  ║    ║      ║      ║      ║      ║      ║      ║      ║                         ║  ║  ║  ║  ║  ║  ║  ║    ║      ║      ║      ║      ║      ║      ║      ║                            ║                    ║                    ║                    ║           ║ \n",
       "        cswap_4_2: ───────────────────────────────────────────────────────────────────────────────────────────────╫────────────╫────────────────────╫────────────╫────────────╫────────────────────╫───────────╫──╫────╫──────╫──────╫──────╫──────╫──────╫──────╫──────╫─────────────────────────╫──╫──╫──╫──╫──╫──╫──╫────╫──────╫──────╫──────╫──────╫──────╫──────╫──────╫────────────────────────────╫────────────────────╫────────────────────╫────────────────────╫───────────╫─\n",
       "                                                                                                                  ║            ║                    ║            ║            ║                    ║           ║  ║    ║      ║      ║      ║      ║      ║      ║      ║                         ║  ║  ║  ║  ║  ║  ║  ║    ║      ║      ║      ║      ║      ║      ║      ║                            ║                    ║                    ║                    ║           ║ \n",
       "        cswap_4_3: ───────────────────────────────────────────────────────────────────────────────────────────────╫────────────╫────────────────────╫────────────╫────────────╫────────────────────╫───────────╫──╫────╫──────╫──────╫──────╫──────╫──────╫──────╫──────╫─────────────────────────╫──╫──╫──╫──╫──╫──╫──╫────╫──────╫──────╫──────╫──────╫──────╫──────╫──────╫────────────────────────────╫────────────────────╫────────────────────╫────────────────────╫───────────╫─\n",
       "                                                                                                                  ║            ║                    ║            ║            ║                    ║           ║  ║    ║      ║      ║      ║      ║      ║      ║      ║                         ║  ║  ║  ║  ║  ║  ║  ║    ║      ║      ║      ║      ║      ║      ║      ║                            ║                    ║                    ║                    ║           ║ \n",
       " verify_measure: 1/═══════════════════════════════════════════════════════════════════════════════════════════════╬════════════╬════════════════════╬════════════╬════════════╬════════════════════╬═══════════╬══╬════╬══════╬══════╬══════╬══════╬══════╬══════╬══════╬═════════════════════════╬══╬══╬══╬══╬══╬══╬══╬════╬══════╬══════╬══════╬══════╬══════╬══════╬══════╬════════════════════════════╬════════════════════╬════════════════════╬════════════════════╬═══════════╩═\n",
       "                                                                                                                  ║            ║                    ║            ║            ║                    ║           ║  ║    ║      ║      ║      ║      ║      ║      ║      ║                         ║  ║  ║  ║  ║  ║  ║  ║    ║      ║      ║      ║      ║      ║      ║      ║                            ║                    ║                    ║                    ║           0 \n",
       "                                                                                                                  ║            ║                    ║            ║            ║                    ║           ║  ║    ║      ║      ║      ║      ║      ║      ║      ║                         ║  ║  ║  ║  ║  ║  ║  ║    ║      ║      ║      ║      ║      ║      ║      ║                            ║                    ║                    ║                    ║             \n",
       "  cswap_measure: 4/═══════════════════════════════════════════════════════════════════════════════════════════════╬════════════╬════════════════════╬════════════╬════════════╬════════════════════╬═══════════╬══╬════╬══════╬══════╬══════╬══════╬══════╬══════╬══════╬═════════════════════════╬══╬══╬══╬══╬══╬══╬══╬════╬══════╬══════╬══════╬══════╬══════╬══════╬══════╬════════════════════════════╩════════════════════╩════════════════════╩════════════════════╩═════════════\n",
       "                                                                                                                  ║            ║                    ║            ║            ║                    ║           ║  ║    ║      ║      ║      ║      ║      ║      ║      ║                         ║  ║  ║  ║  ║  ║  ║  ║    ║      ║      ║      ║      ║      ║      ║      ║                            0                    1                    2                    3             \n",
       "                                                                                                                  ║            ║                    ║            ║            ║                    ║           ║  ║    ║      ║      ║      ║      ║      ║      ║      ║                         ║  ║  ║  ║  ║  ║  ║  ║    ║      ║      ║      ║      ║      ║      ║      ║                                                                                                         \n",
       "cswap_measure_2: 4/═══════════════════════════════════════════════════════════════════════════════════════════════╬════════════╬════════════════════╬════════════╬════════════╬════════════════════╬═══════════╬══╬════╬══════╬══════╬══════╬══════╬══════╬══════╬══════╬═════════════════════════╬══╬══╬══╬══╬══╬══╬══╬════╬══════╬══════╬══════╬══════╬══════╬══════╬══════╬═════════════════════════════════════════════════════════════════════════════════════════════════════════\n",
       "                                                                                                                  ║            ║                    ║            ║            ║                    ║           ║  ║    ║      ║      ║      ║      ║      ║      ║      ║                         ║  ║  ║  ║  ║  ║  ║  ║    ║      ║      ║      ║      ║      ║      ║      ║                                                                                                         \n",
       "cswap_measure_3: 4/═══════════════════════════════════════════════════════════════════════════════════════════════╬════════════╬════════════════════╬════════════╬════════════╬════════════════════╬═══════════╬══╬════╬══════╬══════╬══════╬══════╬══════╬══════╬══════╬═════════════════════════╬══╬══╬══╬══╬══╬══╬══╬════╬══════╬══════╬══════╬══════╬══════╬══════╬══════╬═════════════════════════════════════════════════════════════════════════════════════════════════════════\n",
       "                                                                                                                  ║            ║                    ║            ║            ║                    ║           ║  ║    ║      ║      ║      ║      ║      ║      ║      ║                         ║  ║  ║  ║  ║  ║  ║  ║    ║      ║      ║      ║      ║      ║      ║      ║                                                                                                         \n",
       "cswap_measure_4: 4/═══════════════════════════════════════════════════════════════════════════════════════════════╬════════════╬════════════════════╬════════════╬════════════╬════════════════════╬═══════════╬══╬════╬══════╬══════╬══════╬══════╬══════╬══════╬══════╬═════════════════════════╬══╬══╬══╬══╬══╬══╬══╬════╬══════╬══════╬══════╬══════╬══════╬══════╬══════╬═════════════════════════════════════════════════════════════════════════════════════════════════════════\n",
       "                                                                                                                  ║            ║                    ║            ║            ║                    ║           ║  ║ ┌──╨──┐   ║      ║      ║      ║      ║      ║      ║                         ║  ║  ║  ║  ║  ║  ║  ║    ║      ║      ║      ║      ║      ║      ║      ║                                                                                                         \n",
       "          mac_0: 1/═══════════════════════════════════════════════════════════════════════════════════════════════╩════════════╬════════════════════╬════════════╬════════════╬════════════════════╬═══════════╬══╬═╡ = 1 ╞═══╬══════╬══════╬══════╬══════╬══════╬══════╬═════════════════════════╬══╬══╬══╬══╬══╬══╬══╬════╬══════╬══════╬══════╬══════╬══════╬══════╬══════╬═════════════════════════════════════════════════════════════════════════════════════════════════════════\n",
       "                                                                                                                  0            ║                    ║            ║            ║                    ║           ║  ║ └─────┘┌──╨──┐   ║      ║      ║      ║      ║      ║                         ║  ║  ║  ║  ║  ║  ║  ║    ║      ║      ║      ║      ║      ║      ║      ║                                                                                                         \n",
       "          mac_1: 1/════════════════════════════════════════════════════════════════════════════════════════════════════════════╩════════════════════╬════════════╬════════════╬════════════════════╬═══════════╬══╬════════╡ = 1 ╞═══╬══════╬══════╬══════╬══════╬══════╬═════════════════════════╬══╬══╬══╬══╬══╬══╬══╬════╬══════╬══════╬══════╬══════╬══════╬══════╬══════╬═════════════════════════════════════════════════════════════════════════════════════════════════════════\n",
       "                                                                                                                               0                    ║            ║            ║                    ║           ║  ║        └─────┘┌──╨──┐   ║      ║      ║      ║      ║                         ║  ║  ║  ║  ║  ║  ║  ║    ║      ║      ║      ║      ║      ║      ║      ║                                                                                                         \n",
       "          mac_2: 1/═════════════════════════════════════════════════════════════════════════════════════════════════════════════════════════════════╩════════════╬════════════╬════════════════════╬═══════════╬══╬═══════════════╡ = 1 ╞═══╬══════╬══════╬══════╬══════╬═════════════════════════╬══╬══╬══╬══╬══╬══╬══╬════╬══════╬══════╬══════╬══════╬══════╬══════╬══════╬═════════════════════════════════════════════════════════════════════════════════════════════════════════\n",
       "                                                                                                                                                    0            ║            ║                    ║           ║  ║               └─────┘┌──╨──┐   ║      ║      ║      ║                         ║  ║  ║  ║  ║  ║  ║  ║    ║      ║      ║      ║      ║      ║      ║      ║                                                                                                         \n",
       "          mac_3: 1/══════════════════════════════════════════════════════════════════════════════════════════════════════════════════════════════════════════════╩════════════╬════════════════════╬═══════════╬══╬══════════════════════╡ = 1 ╞═══╬══════╬══════╬══════╬═════════════════════════╬══╬══╬══╬══╬══╬══╬══╬════╬══════╬══════╬══════╬══════╬══════╬══════╬══════╬═════════════════════════════════════════════════════════════════════════════════════════════════════════\n",
       "                                                                                                                                                                 0            ║                    ║           ║  ║                      └─────┘┌──╨──┐   ║      ║      ║                         ║  ║  ║  ║  ║  ║  ║  ║    ║      ║      ║      ║      ║      ║      ║      ║                                                                                                         \n",
       "          mac_4: 1/═══════════════════════════════════════════════════════════════════════════════════════════════════════════════════════════════════════════════════════════╩════════════════════╬═══════════╬══╬═════════════════════════════╡ = 1 ╞═══╬══════╬══════╬═════════════════════════╬══╬══╬══╬══╬══╬══╬══╬════╬══════╬══════╬══════╬══════╬══════╬══════╬══════╬═════════════════════════════════════════════════════════════════════════════════════════════════════════\n",
       "                                                                                                                                                                              0                    ║           ║  ║                             └─────┘┌──╨──┐   ║      ║                         ║  ║  ║  ║  ║  ║  ║  ║    ║      ║      ║      ║      ║      ║      ║      ║                                                                                                         \n",
       "          mac_5: 1/════════════════════════════════════════════════════════════════════════════════════════════════════════════════════════════════════════════════════════════════════════════════╩═══════════╬══╬════════════════════════════════════╡ = 1 ╞═══╬══════╬═════════════════════════╬══╬══╬══╬══╬══╬══╬══╬════╬══════╬══════╬══════╬══════╬══════╬══════╬══════╬═════════════════════════════════════════════════════════════════════════════════════════════════════════\n",
       "                                                                                                                                                                                                   0           ║  ║                                    └─────┘┌──╨──┐   ║                         ║  ║  ║  ║  ║  ║  ║  ║    ║      ║      ║      ║      ║      ║      ║      ║                                                                                                         \n",
       "          mac_6: 1/════════════════════════════════════════════════════════════════════════════════════════════════════════════════════════════════════════════════════════════════════════════════════════════╩══╬═══════════════════════════════════════════╡ = 1 ╞═══╬═════════════════════════╬══╬══╬══╬══╬══╬══╬══╬════╬══════╬══════╬══════╬══════╬══════╬══════╬══════╬═════════════════════════════════════════════════════════════════════════════════════════════════════════\n",
       "                                                                                                                                                                                                               0  ║                                           └─────┘┌──╨──┐                      ║  ║  ║  ║  ║  ║  ║  ║    ║      ║      ║      ║      ║      ║      ║      ║                                                                                                         \n",
       "          mac_7: 1/═══════════════════════════════════════════════════════════════════════════════════════════════════════════════════════════════════════════════════════════════════════════════════════════════╩══════════════════════════════════════════════════╡ = 1 ╞══════════════════════╬══╬══╬══╬══╬══╬══╬══╬════╬══════╬══════╬══════╬══════╬══════╬══════╬══════╬═════════════════════════════════════════════════════════════════════════════════════════════════════════\n",
       "                                                                                                                                                                                                                  0                                                  └─────┘                      ║  ║  ║  ║  ║  ║  ║  ║ ┌──╨──┐   ║      ║      ║      ║      ║      ║      ║                                                                                                         \n",
       " m_a_1_measure0: 1/═══════════════════════════════════════════════════════════════════════════════════════════════════════════════════════════════════════════════════════════════════════════════════════════════════════════════════════════════════════════════════════════════════════════════╩══╬══╬══╬══╬══╬══╬══╬═╡ = 1 ╞═══╬══════╬══════╬══════╬══════╬══════╬══════╬═════════════════════════════════════════════════════════════════════════════════════════════════════════\n",
       "                                                                                                                                                                                                                                                                                                  0  ║  ║  ║  ║  ║  ║  ║ └─────┘   ║      ║      ║   ┌──╨──┐   ║      ║      ║                                                                                                         \n",
       " m_a_2_measure0: 1/══════════════════════════════════════════════════════════════════════════════════════════════════════════════════════════════════════════════════════════════════════════════════════════════════════════════════════════════════════════════════════════════════════════════════╩══╬══╬══╬══╬══╬══╬═══════════╬══════╬══════╬═══╡ = 1 ╞═══╬══════╬══════╬═════════════════════════════════════════════════════════════════════════════════════════════════════════\n",
       "                                                                                                                                                                                                                                                                                                     0  ║  ║  ║  ║  ║  ║        ┌──╨──┐   ║      ║   └─────┘   ║      ║      ║                                                                                                         \n",
       " m_a_1_measure1: 1/═════════════════════════════════════════════════════════════════════════════════════════════════════════════════════════════════════════════════════════════════════════════════════════════════════════════════════════════════════════════════════════════════════════════════════╩══╬══╬══╬══╬══╬════════╡ = 1 ╞═══╬══════╬═════════════╬══════╬══════╬═════════════════════════════════════════════════════════════════════════════════════════════════════════\n",
       "                                                                                                                                                                                                                                                                                                        0  ║  ║  ║  ║  ║        └─────┘   ║      ║          ┌──╨──┐   ║      ║                                                                                                         \n",
       " m_a_2_measure1: 1/════════════════════════════════════════════════════════════════════════════════════════════════════════════════════════════════════════════════════════════════════════════════════════════════════════════════════════════════════════════════════════════════════════════════════════╩══╬══╬══╬══╬══════════════════╬══════╬══════════╡ = 1 ╞═══╬══════╬═════════════════════════════════════════════════════════════════════════════════════════════════════════\n",
       "                                                                                                                                                                                                                                                                                                           0  ║  ║  ║  ║               ┌──╨──┐   ║          └─────┘   ║      ║                                                                                                         \n",
       " m_a_1_measure2: 1/═══════════════════════════════════════════════════════════════════════════════════════════════════════════════════════════════════════════════════════════════════════════════════════════════════════════════════════════════════════════════════════════════════════════════════════════╩══╬══╬══╬═══════════════╡ = 1 ╞═══╬════════════════════╬══════╬═════════════════════════════════════════════════════════════════════════════════════════════════════════\n",
       "                                                                                                                                                                                                                                                                                                              0  ║  ║  ║               └─────┘   ║                 ┌──╨──┐   ║                                                                                                         \n",
       " m_a_2_measure2: 1/══════════════════════════════════════════════════════════════════════════════════════════════════════════════════════════════════════════════════════════════════════════════════════════════════════════════════════════════════════════════════════════════════════════════════════════════╩══╬══╬═════════════════════════╬═════════════════╡ = 1 ╞═══╬═════════════════════════════════════════════════════════════════════════════════════════════════════════\n",
       "                                                                                                                                                                                                                                                                                                                 0  ║  ║                      ┌──╨──┐              └─────┘   ║                                                                                                         \n",
       " m_a_1_measure3: 1/═════════════════════════════════════════════════════════════════════════════════════════════════════════════════════════════════════════════════════════════════════════════════════════════════════════════════════════════════════════════════════════════════════════════════════════════════╩══╬══════════════════════╡ = 1 ╞════════════════════════╬═════════════════════════════════════════════════════════════════════════════════════════════════════════\n",
       "                                                                                                                                                                                                                                                                                                                    0  ║                      └─────┘                     ┌──╨──┐                                                                                                      \n",
       " m_a_2_measure3: 1/════════════════════════════════════════════════════════════════════════════════════════════════════════════════════════════════════════════════════════════════════════════════════════════════════════════════════════════════════════════════════════════════════════════════════════════════════╩══════════════════════════════════════════════════╡ = 1 ╞══════════════════════════════════════════════════════════════════════════════════════════════════════\n",
       "                                                                                                                                                                                                                                                                                                                       0                                                  └─────┘                                                                                                      </pre>"
      ],
      "text/plain": [
       "                     ┌──────────────────────────────────────────────┐                                                                                                                                                                                                                                                                                                                                                                                                                  \n",
       "     p_original_0: ──┤ Initialize(0.21037-0.4842j,0.29757+0.79545j) ├──────────────────────────────────────────────────────────────────────────────────────────────────────────────────────────────────────────────────────────────────────────────────────────────────────────────────────────────────────────────────────────────────────────────────────────────────────────────────────────────────────────────────────────────────────────────────────────────────────────────────\n",
       "                   ┌─┴──────────────────────────────────────────────┴┐                                                                                                                                                                                                                                                                                                                                                                                                                 \n",
       "     p_original_1: ┤ Initialize(-0.2923-0.089584j,-0.35791-0.88229j) ├─────────────────────────────────────────────────────────────────────────────────────────────────────────────────────────────────────────────────────────────────────────────────────────────────────────────────────────────────────────────────────────────────────────────────────────────────────────────────────────────────────────────────────────────────────────────────────────────────────────────────\n",
       "                   ├─────────────────────────────────────────────────┤                                                                                                                                                                                                                                                                                                                                                                                                                 \n",
       "     p_original_2: ┤ Initialize(-0.95895-0.10831j,-0.18162+0.18896j) ├─────────────────────────────────────────────────────────────────────────────────────────────────────────────────────────────────────────────────────────────────────────────────────────────────────────────────────────────────────────────────────────────────────────────────────────────────────────────────────────────────────────────────────────────────────────────────────────────────────────────────\n",
       "                   ├─────────────────────────────────────────────────┤                                                                                                                                                                                                                                                                                                                                                                                                                 \n",
       "     p_original_3: ┤ Initialize(-0.058567-0.54835j,-0.16208+0.8183j) ├─────────────────────────────────────────────────────────────────────────────────────────────────────────────────────────────────────────────────────────────────────────────────────────────────────────────────────────────────────────────────────────────────────────────────────────────────────────────────────────────────────────────────────────────────────────────────────────────────────────────────\n",
       "                   └─┬──────────────────────────────────────────────┬┘┌───────────────────┐                          ┌───────────────────┐┌───────────────────┐     ┌───────────────────┐                                                                                                                                                                                        ┌─────────────┐┌───────────────────┐                     ┌───────────────────┐┌───────────────────┐   \n",
       "          p_enc_0: ──┤ Initialize(0.21037-0.4842j,0.29757+0.79545j) ├─┤0                  ├──────────────────────────┤0                  ├┤0                  ├─────┤0                  ├────────────────────────────────────────────────────────────────────────────────────────────────────────────────────────────────────────────────────────────────────────────────────────┤0            ├┤0                  ├─────────────────────┤0                  ├┤0                  ├───\n",
       "                   ┌─┴──────────────────────────────────────────────┴┐│                   │        ┌───┐             │                   ││                   │┌───┐│                   │                                                                                                                                                                                        │             ││                   │                     │                   ││                   │   \n",
       "          p_enc_1: ┤ Initialize(-0.2923-0.089584j,-0.35791-0.88229j) ├┤1                  ├────────┤ X ├─────────────┤1                  ├┤1                  ├┤ X ├┤1                  ├────────────────────────────────────────────────────────────────────────────────────────────────────────────────────────────────────────────────────────────────────────────────────────┤1            ├┤1                  ├─────────────────────┤1                  ├┤1                  ├───\n",
       "                   ├─────────────────────────────────────────────────┤│  chained_cnot_enc │        └───┘             │                   ││                   │└───┘│  chained_cnot_dec │                                                                                                                                                                                        │             ││  chained_cnot_enc │                     │                   ││                   │   \n",
       "          p_enc_2: ┤ Initialize(-0.95895-0.10831j,-0.18162+0.18896j) ├┤2                  ├──────────────────────────┤2                  ├┤2                  ├─────┤2                  ├────────────────────────────────────────────────────────────────────────────────────────────────────────────────────────────────────────────────────────────────────────────────────────┤2            ├┤2                  ├─────────────────────┤2                  ├┤2                  ├───\n",
       "                   ├─────────────────────────────────────────────────┤│                   │                          │                   ││                   │     │                   │                                                                                                                                                                                        │             ││                   │                     │                   ││                   │   \n",
       "          p_enc_3: ┤ Initialize(-0.058567-0.54835j,-0.16208+0.8183j) ├┤3                  ├──────────────────────────┤3                  ├┤3                  ├─────┤3                  ├────────────────────────────────────────────────────────────────────────────────────────────────────────────────────────────────────────────────────────────────────────────────────────┤3            ├┤3                  ├─────────────────────┤3                  ├┤3                  ├───\n",
       "                   └─┬──────────────────────────────────────────────┬┘├───────────────────┤┌───────────────────┐┌───┐│  chained_cnot_enc ││  chained_cnot_dec │┌───┐├───────────────────┤┌───────────────────┐                                                                                                                                                                   │             │├───────────────────┤┌───────────────────┐│                   ││                   │   \n",
       "            s_a_0: ──┤ Initialize(0.21037-0.4842j,0.29757+0.79545j) ├─┤0                  ├┤0                  ├┤ X ├┤4                  ├┤4                  ├┤ X ├┤0                  ├┤0                  ├───────────────────────────────────────────────────────────────────────────────────────────────────────────────────────────────────────────────────────────────────┤4            ├┤0                  ├┤0                  ├┤4                  ├┤4                  ├───\n",
       "                   ┌─┴──────────────────────────────────────────────┴┐│                   ││                   │├───┤│                   ││                   │├───┤│                   ││                   │                                                                                                                                                                   │             ││                   ││                   ││                   ││                   │   \n",
       "            s_a_1: ┤ Initialize(-0.2923-0.089584j,-0.35791-0.88229j) ├┤1                  ├┤1                  ├┤ X ├┤5                  ├┤5                  ├┤ X ├┤1                  ├┤1                  ├───────────────────────────────────────────────────────────────────────────────────────────────────────────────────────────────────────────────────────────────────┤5            ├┤1                  ├┤1                  ├┤5                  ├┤5                  ├───\n",
       "                   ├─────────────────────────────────────────────────┤│  chained_cnot_enc ││  chained_cnot_enc │└───┘│                   ││                   │└───┘│  chained_cnot_dec ││  chained_cnot_dec │                                                                                                                                                                   │             ││  chained_cnot_enc ││  chained_cnot_enc ││                   ││                   │   \n",
       "            s_a_2: ┤ Initialize(-0.95895-0.10831j,-0.18162+0.18896j) ├┤2                  ├┤2                  ├─────┤6                  ├┤6                  ├─────┤2                  ├┤2                  ├───────────────────────────────────────────────────────────────────────────────────────────────────────────────────────────────────────────────────────────────────┤6            ├┤2                  ├┤2                  ├┤6                  ├┤6                  ├───\n",
       "                   ├─────────────────────────────────────────────────┤│                   ││                   │┌───┐│                   ││                   │┌───┐│                   ││                   │                                                                                                                                                                   │             ││                   ││                   ││                   ││                   │   \n",
       "            s_a_3: ┤ Initialize(-0.058567-0.54835j,-0.16208+0.8183j) ├┤3                  ├┤3                  ├┤ X ├┤7                  ├┤7                  ├┤ X ├┤3                  ├┤3                  ├───────────────────────────────────────────────────────────────────────────────────────────────────────────────────────────────────────────────────────────────────┤7            ├┤3                  ├┤3                  ├┤7                  ├┤7                  ├───\n",
       "                   └─────────────────┬─────────────┬─────────────────┘└───────────────────┘└───────────────────┘└───┘└───────────────────┘└───────────────────┘└───┘└───────────────────┘└───────────────────┘       ┌───┐                                                  ┌───────────────────┐┌─┐                                                                             │             │└───────────────────┘└───────────────────┘│                   ││                   │   \n",
       "          m_a_1_0: ──────────────────┤0            ├─────────────────────────────────────────────────────────────────────────────────────────────────────────────────────────────────────────────────────────────────┤ Z ├──────────────────────────────────────────────────┤0                  ├┤M├─────────────────────────────────────────────────────────────────────────────┤             ├──────────────────────────────────────────┤                   ├┤                   ├───\n",
       "                                     │             │                                                                                                                                                                 └─╥─┘         ┌───┐                                    │                   │└╥┘   ┌─┐                                                                       │             │                                          │                   ││                   │   \n",
       "          m_a_1_1: ──────────────────┤1            ├───────────────────────────────────────────────────────────────────────────────────────────────────────────────────────────────────────────────────────────────────╫───────────┤ Z ├────────────────────────────────────┤1                  ├─╫────┤M├───────────────────────────────────────────────────────────────────────┤             ├──────────────────────────────────────────┤                   ├┤                   ├───\n",
       "                                     │             │                                                                                                                                                                   ║           └─╥─┘         ┌───┐                      │                   │ ║    └╥┘   ┌─┐                                                                 │             │                                          │                   ││                   │   \n",
       "          m_a_1_2: ──────────────────┤2            ├───────────────────────────────────────────────────────────────────────────────────────────────────────────────────────────────────────────────────────────────────╫─────────────╫───────────┤ Z ├──────────────────────┤2                  ├─╫─────╫────┤M├─────────────────────────────────────────────────────────────────┤             ├──────────────────────────────────────────┤                   ├┤                   ├───\n",
       "                                     │             │                                                                                                                                                                   ║             ║           └─╥─┘         ┌───┐        │                   │ ║     ║    └╥┘   ┌─┐                                                           │             │                                          │                   ││                   │   \n",
       "          m_a_1_3: ──────────────────┤3            ├───────────────────────────────────────────────────────────────────────────────────────────────────────────────────────────────────────────────────────────────────╫─────────────╫─────────────╫───────────┤ Z ├────────┤3                  ├─╫─────╫─────╫────┤M├───────────────────────────────────────────────────────────┤             ├──────────────────────────────────────────┤                   ├┤                   ├───\n",
       "                                     │  bell_state │                                                                                                                                                                   ║    ┌───┐    ║             ║           └─╥─┘        │  bell_measurement │ ║ ┌─┐ ║     ║    └╥┘                                                           │             │                                          │                   ││                   │   \n",
       "          m_a_2_0: ──────────────────┤4            ├───────────────────────────────────────────────────────────────────────────────────────────────────────────────────────────────────────────────────────────────────╫────┤ X ├────╫─────────────╫─────────────╫──────────┤4                  ├─╫─┤M├─╫─────╫─────╫────────────────────────────────────────────────────────────┤             ├──────────────────────────────────────────┤                   ├┤                   ├───\n",
       "                                     │             │                                                                                                                                                                   ║    └─╥─┘    ║    ┌───┐    ║             ║          │                   │ ║ └╥┘ ║ ┌─┐ ║     ║                                                            │             │                                          │                   ││                   │   \n",
       "          m_a_2_1: ──────────────────┤5            ├───────────────────────────────────────────────────────────────────────────────────────────────────────────────────────────────────────────────────────────────────╫──────╫──────╫────┤ X ├────╫─────────────╫──────────┤5                  ├─╫──╫──╫─┤M├─╫─────╫────────────────────────────────────────────────────────────┤             ├──────────────────────────────────────────┤                   ├┤                   ├───\n",
       "                                     │             │                                                                                                                                                                   ║      ║      ║    └─╥─┘    ║    ┌───┐    ║          │                   │ ║  ║  ║ └╥┘ ║ ┌─┐ ║                                                            │             │                                          │                   ││                   │   \n",
       "          m_a_2_2: ──────────────────┤6            ├───────────────────────────────────────────────────────────────────────────────────────────────────────────────────────────────────────────────────────────────────╫──────╫──────╫──────╫──────╫────┤ X ├────╫──────────┤6                  ├─╫──╫──╫──╫──╫─┤M├─╫────────────────────────────────────────────────────────────┤             ├──────────────────────────────────────────┤  chained_cnot_enc ├┤  chained_cnot_dec ├───\n",
       "                                     │             │                                                                                                                                                                   ║      ║      ║      ║      ║    └─╥─┘    ║    ┌───┐ │                   │ ║  ║  ║  ║  ║ └╥┘ ║ ┌─┐                                                        │             │                                          │                   ││                   │   \n",
       "          m_a_2_3: ──────────────────┤7            ├───────────────────────────────────────────────────────────────────────────────────────────────────────────────────────────────────────────────────────────────────╫──────╫──────╫──────╫──────╫──────╫──────╫────┤ X ├─┤7                  ├─╫──╫──╫──╫──╫──╫──╫─┤M├────────────────────────────────────────────────────────┤             ├──────────────────────────────────────────┤                   ├┤                   ├───\n",
       "                                     ├─────────────┤                                       ┌───────────────────┐ ┌─┐                                                                                                   ║      ║      ║      ║      ║      ║      ║    └─╥─┘ └───────────────────┘ ║  ║  ║  ║  ║  ║  ║ └╥┘                                                        │             │                                          │                   ││                   │   \n",
       "     alice_bell_0: ──────────────────┤0            ├───────────────────────────────────────┤0                  ├─┤M├───────────────────────────────────────────────────────────────────────────────────────────────────╫──────╫──────╫──────╫──────╫──────╫──────╫──────╫─────────────────────────╫──╫──╫──╫──╫──╫──╫──╫─────────────────────────────────────────────────────────┤   swap test ├──────────────────────────────────────────┤                   ├┤                   ├───\n",
       "                                     │             │                                       │                   │ └╥┘                               ┌─┐                                                                 ║      ║      ║      ║      ║      ║      ║      ║                         ║  ║  ║  ║  ║  ║  ║  ║                                                         │             │                                          │                   ││                   │   \n",
       "     alice_bell_1: ──────────────────┤1            ├───────────────────────────────────────┤1                  ├──╫────────────────────────────────┤M├─────────────────────────────────────────────────────────────────╫──────╫──────╫──────╫──────╫──────╫──────╫──────╫─────────────────────────╫──╫──╫──╫──╫──╫──╫──╫─────────────────────────────────────────────────────────┤             ├──────────────────────────────────────────┤                   ├┤                   ├───\n",
       "                                     │             │                                       │                   │  ║                                └╥┘                       ┌─┐                                       ║      ║      ║      ║      ║      ║      ║      ║                         ║  ║  ║  ║  ║  ║  ║  ║                                                         │             │                                          │                   ││                   │   \n",
       "     alice_bell_2: ──────────────────┤2            ├───────────────────────────────────────┤2                  ├──╫─────────────────────────────────╫────────────────────────┤M├───────────────────────────────────────╫──────╫──────╫──────╫──────╫──────╫──────╫──────╫─────────────────────────╫──╫──╫──╫──╫──╫──╫──╫─────────────────────────────────────────────────────────┤             ├──────────────────────────────────────────┤                   ├┤                   ├───\n",
       "                                     │             │                                       │                   │  ║                                 ║                        └╥┘                              ┌─┐      ║      ║      ║      ║      ║      ║      ║      ║                         ║  ║  ║  ║  ║  ║  ║  ║                                                         │             │                                          │                   ││                   │   \n",
       "     alice_bell_3: ──────────────────┤3            ├───────────────────────────────────────┤3                  ├──╫─────────────────────────────────╫─────────────────────────╫───────────────────────────────┤M├──────╫──────╫──────╫──────╫──────╫──────╫──────╫──────╫─────────────────────────╫──╫──╫──╫──╫──╫──╫──╫─────────────────────────────────────────────────────────┤             ├──────────────────────────────────────────┤                   ├┤                   ├───\n",
       "                                     │  bell_state │                                       │                   │  ║                                 ║                         ║                               └╥┘      ║      ║      ║      ║      ║      ║      ║      ║                         ║  ║  ║  ║  ║  ║  ║  ║  ┌───┐                       ┌───┐                      │             │                                          │                   ││                   │   \n",
       "       bob_bell_0: ──────────────────┤4            ├───────────────────────────────────────┤                   ├──╫─────────────────────────────────╫─────────────────────────╫────────────────────────────────╫───────╫──────╫──────╫──────╫──────╫──────╫──────╫──────╫─────────────────────────╫──╫──╫──╫──╫──╫──╫──╫──┤ Z ├───────────────────────┤ X ├──────────────────────┤             ├──────────────────────────────────────────┤                   ├┤                   ├───\n",
       "                                     │             │                                       │                   │  ║                                 ║                         ║                                ║       ║      ║      ║      ║      ║      ║      ║      ║                         ║  ║  ║  ║  ║  ║  ║  ║  └─╥─┘  ┌───┐                └─╥─┘  ┌───┐               │             │                                          │                   ││                   │   \n",
       "       bob_bell_1: ──────────────────┤5            ├───────────────────────────────────────┤                   ├──╫─────────────────────────────────╫─────────────────────────╫────────────────────────────────╫───────╫──────╫──────╫──────╫──────╫──────╫──────╫──────╫─────────────────────────╫──╫──╫──╫──╫──╫──╫──╫────╫────┤ Z ├──────────────────╫────┤ X ├───────────────┤             ├──────────────────────────────────────────┤                   ├┤                   ├───\n",
       "                                     │             │                                       │  bell_measurement │  ║                                 ║                         ║                                ║       ║      ║      ║      ║      ║      ║      ║      ║                         ║  ║  ║  ║  ║  ║  ║  ║    ║    └─╥─┘  ┌───┐           ║    └─╥─┘  ┌───┐        │             │                                          │                   ││                   │   \n",
       "       bob_bell_2: ──────────────────┤6            ├───────────────────────────────────────┤                   ├──╫─────────────────────────────────╫─────────────────────────╫────────────────────────────────╫───────╫──────╫──────╫──────╫──────╫──────╫──────╫──────╫─────────────────────────╫──╫──╫──╫──╫──╫──╫──╫────╫──────╫────┤ Z ├───────────╫──────╫────┤ X ├────────┤             ├──────────────────────────────────────────┤                   ├┤                   ├───\n",
       "                                     │             │                                       │                   │  ║                                 ║                         ║                                ║       ║      ║      ║      ║      ║      ║      ║      ║                         ║  ║  ║  ║  ║  ║  ║  ║    ║      ║    └─╥─┘  ┌───┐    ║      ║    └─╥─┘  ┌───┐ │             │                                          │                   ││                   │   \n",
       "       bob_bell_3: ──────────────────┤7            ├───────────────────────────────────────┤                   ├──╫─────────────────────────────────╫─────────────────────────╫────────────────────────────────╫───────╫──────╫──────╫──────╫──────╫──────╫──────╫──────╫─────────────────────────╫──╫──╫──╫──╫──╫──╫──╫────╫──────╫──────╫────┤ Z ├────╫──────╫──────╫────┤ X ├─┤             ├──────────────────────────────────────────┤                   ├┤                   ├───\n",
       "                     ┌───────────────┴─────────────┴────────────────┐ ┌───────────────────┐│                   │  ║           ┌─┐                   ║                         ║                                ║       ║      ║      ║      ║      ║      ║      ║      ║                         ║  ║  ║  ║  ║  ║  ║  ║    ║      ║      ║    └─╥─┘    ║      ║      ║    └─╥─┘ │             │                                          │                   ││                   │   \n",
       "        m_a_mea_0: ──┤ Initialize(0.21037-0.4842j,0.29757+0.79545j) ├─┤0                  ├┤4                  ├──╫───────────┤M├───────────────────╫─────────────────────────╫────────────────────────────────╫───────╫──────╫──────╫──────╫──────╫──────╫──────╫──────╫─────────────────────────╫──╫──╫──╫──╫──╫──╫──╫────╫──────╫──────╫──────╫──────╫──────╫──────╫──────╫───┤             ├──────────────────────────────────────────┤                   ├┤                   ├───\n",
       "                   ┌─┴──────────────────────────────────────────────┴┐│                   ││                   │  ║           └╥┘                   ║           ┌─┐           ║                                ║       ║      ║      ║      ║      ║      ║      ║      ║                         ║  ║  ║  ║  ║  ║  ║  ║    ║      ║      ║      ║      ║      ║      ║      ║   │             │                                          │                   ││                   │   \n",
       "        m_a_mea_1: ┤ Initialize(-0.2923-0.089584j,-0.35791-0.88229j) ├┤1                  ├┤5                  ├──╫────────────╫────────────────────╫───────────┤M├───────────╫────────────────────────────────╫───────╫──────╫──────╫──────╫──────╫──────╫──────╫──────╫─────────────────────────╫──╫──╫──╫──╫──╫──╫──╫────╫──────╫──────╫──────╫──────╫──────╫──────╫──────╫───┤             ├──────────────────────────────────────────┤                   ├┤                   ├───\n",
       "                   ├─────────────────────────────────────────────────┤│  chained_cnot_enc ││                   │  ║            ║                    ║           └╥┘           ║                   ┌─┐          ║       ║      ║      ║      ║      ║      ║      ║      ║                         ║  ║  ║  ║  ║  ║  ║  ║    ║      ║      ║      ║      ║      ║      ║      ║   │             │                                          │                   ││                   │   \n",
       "        m_a_mea_2: ┤ Initialize(-0.95895-0.10831j,-0.18162+0.18896j) ├┤2                  ├┤6                  ├──╫────────────╫────────────────────╫────────────╫────────────╫───────────────────┤M├──────────╫───────╫──────╫──────╫──────╫──────╫──────╫──────╫──────╫─────────────────────────╫──╫──╫──╫──╫──╫──╫──╫────╫──────╫──────╫──────╫──────╫──────╫──────╫──────╫───┤             ├──────────────────────────────────────────┤                   ├┤                   ├───\n",
       "                   ├─────────────────────────────────────────────────┤│                   ││                   │  ║            ║                    ║            ║            ║                   └╥┘          ║ ┌─┐   ║      ║      ║      ║      ║      ║      ║      ║                         ║  ║  ║  ║  ║  ║  ║  ║    ║      ║      ║      ║      ║      ║      ║      ║   │             │                                          │                   ││                   │   \n",
       "        m_a_mea_3: ┤ Initialize(-0.058567-0.54835j,-0.16208+0.8183j) ├┤3                  ├┤7                  ├──╫────────────╫────────────────────╫────────────╫────────────╫────────────────────╫───────────╫─┤M├───╫──────╫──────╫──────╫──────╫──────╫──────╫──────╫─────────────────────────╫──╫──╫──╫──╫──╫──╫──╫────╫──────╫──────╫──────╫──────╫──────╫──────╫──────╫───┤             ├──────────────────────────────────────────┤                   ├┤                   ├───\n",
       "                   └──────────────────────┬───┬──────────────────────┘└───────────────────┘└───────────────────┘  ║            ║                    ║            ║            ║                    ║           ║ └╥┘   ║      ║      ║      ║      ║      ║      ║      ║                         ║  ║  ║  ║  ║  ║  ║  ║    ║      ║      ║      ║      ║      ║      ║      ║   │             │                                          │                   ││                   │┌─┐\n",
       "         verify_0: ───────────────────────┤ X ├───────────────────────────────────────────────────────────────────╫────────────╫────────────────────╫────────────╫────────────╫────────────────────╫───────────╫──╫────╫──────╫──────╫──────╫──────╫──────╫──────╫──────╫─────────────────────────╫──╫──╫──╫──╫──╫──╫──╫────╫──────╫──────╫──────╫──────╫──────╫──────╫──────╫───┤             ├──────────────────────────────────────────┤8                  ├┤8                  ├┤M├\n",
       "                                          └───┘                                                                   ║            ║                    ║            ║            ║                    ║           ║  ║    ║      ║      ║      ║      ║      ║      ║      ║                         ║  ║  ║  ║  ║  ║  ║  ║    ║      ║      ║      ║      ║      ║      ║      ║   │             │         ┌─┐                              └───────────────────┘└───────────────────┘└╥┘\n",
       "          cswap_0: ───────────────────────────────────────────────────────────────────────────────────────────────╫────────────╫────────────────────╫────────────╫────────────╫────────────────────╫───────────╫──╫────╫──────╫──────╫──────╫──────╫──────╫──────╫──────╫─────────────────────────╫──╫──╫──╫──╫──╫──╫──╫────╫──────╫──────╫──────╫──────╫──────╫──────╫──────╫───┤8            ├─────────┤M├─────────────────────────────────────────────────────────────────────────╫─\n",
       "                                                                                                                  ║            ║                    ║            ║            ║                    ║           ║  ║    ║      ║      ║      ║      ║      ║      ║      ║                         ║  ║  ║  ║  ║  ║  ║  ║    ║      ║      ║      ║      ║      ║      ║      ║   │             │         └╥┘                  ┌─┐                                                    ║ \n",
       "          cswap_1: ───────────────────────────────────────────────────────────────────────────────────────────────╫────────────╫────────────────────╫────────────╫────────────╫────────────────────╫───────────╫──╫────╫──────╫──────╫──────╫──────╫──────╫──────╫──────╫─────────────────────────╫──╫──╫──╫──╫──╫──╫──╫────╫──────╫──────╫──────╫──────╫──────╫──────╫──────╫───┤9            ├──────────╫───────────────────┤M├────────────────────────────────────────────────────╫─\n",
       "                                                                                                                  ║            ║                    ║            ║            ║                    ║           ║  ║    ║      ║      ║      ║      ║      ║      ║      ║                         ║  ║  ║  ║  ║  ║  ║  ║    ║      ║      ║      ║      ║      ║      ║      ║   │             │          ║                   └╥┘                  ┌─┐                               ║ \n",
       "          cswap_2: ───────────────────────────────────────────────────────────────────────────────────────────────╫────────────╫────────────────────╫────────────╫────────────╫────────────────────╫───────────╫──╫────╫──────╫──────╫──────╫──────╫──────╫──────╫──────╫─────────────────────────╫──╫──╫──╫──╫──╫──╫──╫────╫──────╫──────╫──────╫──────╫──────╫──────╫──────╫───┤10           ├──────────╫────────────────────╫───────────────────┤M├───────────────────────────────╫─\n",
       "                                                                                                                  ║            ║                    ║            ║            ║                    ║           ║  ║    ║      ║      ║      ║      ║      ║      ║      ║                         ║  ║  ║  ║  ║  ║  ║  ║    ║      ║      ║      ║      ║      ║      ║      ║   │             │          ║                    ║                   └╥┘                  ┌─┐          ║ \n",
       "          cswap_3: ───────────────────────────────────────────────────────────────────────────────────────────────╫────────────╫────────────────────╫────────────╫────────────╫────────────────────╫───────────╫──╫────╫──────╫──────╫──────╫──────╫──────╫──────╫──────╫─────────────────────────╫──╫──╫──╫──╫──╫──╫──╫────╫──────╫──────╫──────╫──────╫──────╫──────╫──────╫───┤11           ├──────────╫────────────────────╫────────────────────╫───────────────────┤M├──────────╫─\n",
       "                                                                                                                  ║            ║                    ║            ║            ║                    ║           ║  ║    ║      ║      ║      ║      ║      ║      ║      ║                         ║  ║  ║  ║  ║  ║  ║  ║    ║      ║      ║      ║      ║      ║      ║      ║   └─────────────┘          ║                    ║                    ║                   └╥┘          ║ \n",
       "        cswap_2_0: ───────────────────────────────────────────────────────────────────────────────────────────────╫────────────╫────────────────────╫────────────╫────────────╫────────────────────╫───────────╫──╫────╫──────╫──────╫──────╫──────╫──────╫──────╫──────╫─────────────────────────╫──╫──╫──╫──╫──╫──╫──╫────╫──────╫──────╫──────╫──────╫──────╫──────╫──────╫────────────────────────────╫────────────────────╫────────────────────╫────────────────────╫───────────╫─\n",
       "                                                                                                                  ║            ║                    ║            ║            ║                    ║           ║  ║    ║      ║      ║      ║      ║      ║      ║      ║                         ║  ║  ║  ║  ║  ║  ║  ║    ║      ║      ║      ║      ║      ║      ║      ║                            ║                    ║                    ║                    ║           ║ \n",
       "        cswap_2_1: ───────────────────────────────────────────────────────────────────────────────────────────────╫────────────╫────────────────────╫────────────╫────────────╫────────────────────╫───────────╫──╫────╫──────╫──────╫──────╫──────╫──────╫──────╫──────╫─────────────────────────╫──╫──╫──╫──╫──╫──╫──╫────╫──────╫──────╫──────╫──────╫──────╫──────╫──────╫────────────────────────────╫────────────────────╫────────────────────╫────────────────────╫───────────╫─\n",
       "                                                                                                                  ║            ║                    ║            ║            ║                    ║           ║  ║    ║      ║      ║      ║      ║      ║      ║      ║                         ║  ║  ║  ║  ║  ║  ║  ║    ║      ║      ║      ║      ║      ║      ║      ║                            ║                    ║                    ║                    ║           ║ \n",
       "        cswap_2_2: ───────────────────────────────────────────────────────────────────────────────────────────────╫────────────╫────────────────────╫────────────╫────────────╫────────────────────╫───────────╫──╫────╫──────╫──────╫──────╫──────╫──────╫──────╫──────╫─────────────────────────╫──╫──╫──╫──╫──╫──╫──╫────╫──────╫──────╫──────╫──────╫──────╫──────╫──────╫────────────────────────────╫────────────────────╫────────────────────╫────────────────────╫───────────╫─\n",
       "                                                                                                                  ║            ║                    ║            ║            ║                    ║           ║  ║    ║      ║      ║      ║      ║      ║      ║      ║                         ║  ║  ║  ║  ║  ║  ║  ║    ║      ║      ║      ║      ║      ║      ║      ║                            ║                    ║                    ║                    ║           ║ \n",
       "        cswap_2_3: ───────────────────────────────────────────────────────────────────────────────────────────────╫────────────╫────────────────────╫────────────╫────────────╫────────────────────╫───────────╫──╫────╫──────╫──────╫──────╫──────╫──────╫──────╫──────╫─────────────────────────╫──╫──╫──╫──╫──╫──╫──╫────╫──────╫──────╫──────╫──────╫──────╫──────╫──────╫────────────────────────────╫────────────────────╫────────────────────╫────────────────────╫───────────╫─\n",
       "                                                                                                                  ║            ║                    ║            ║            ║                    ║           ║  ║    ║      ║      ║      ║      ║      ║      ║      ║                         ║  ║  ║  ║  ║  ║  ║  ║    ║      ║      ║      ║      ║      ║      ║      ║                            ║                    ║                    ║                    ║           ║ \n",
       "        cswap_3_0: ───────────────────────────────────────────────────────────────────────────────────────────────╫────────────╫────────────────────╫────────────╫────────────╫────────────────────╫───────────╫──╫────╫──────╫──────╫──────╫──────╫──────╫──────╫──────╫─────────────────────────╫──╫──╫──╫──╫──╫──╫──╫────╫──────╫──────╫──────╫──────╫──────╫──────╫──────╫────────────────────────────╫────────────────────╫────────────────────╫────────────────────╫───────────╫─\n",
       "                                                                                                                  ║            ║                    ║            ║            ║                    ║           ║  ║    ║      ║      ║      ║      ║      ║      ║      ║                         ║  ║  ║  ║  ║  ║  ║  ║    ║      ║      ║      ║      ║      ║      ║      ║                            ║                    ║                    ║                    ║           ║ \n",
       "        cswap_3_1: ───────────────────────────────────────────────────────────────────────────────────────────────╫────────────╫────────────────────╫────────────╫────────────╫────────────────────╫───────────╫──╫────╫──────╫──────╫──────╫──────╫──────╫──────╫──────╫─────────────────────────╫──╫──╫──╫──╫──╫──╫──╫────╫──────╫──────╫──────╫──────╫──────╫──────╫──────╫────────────────────────────╫────────────────────╫────────────────────╫────────────────────╫───────────╫─\n",
       "                                                                                                                  ║            ║                    ║            ║            ║                    ║           ║  ║    ║      ║      ║      ║      ║      ║      ║      ║                         ║  ║  ║  ║  ║  ║  ║  ║    ║      ║      ║      ║      ║      ║      ║      ║                            ║                    ║                    ║                    ║           ║ \n",
       "        cswap_3_2: ───────────────────────────────────────────────────────────────────────────────────────────────╫────────────╫────────────────────╫────────────╫────────────╫────────────────────╫───────────╫──╫────╫──────╫──────╫──────╫──────╫──────╫──────╫──────╫─────────────────────────╫──╫──╫──╫──╫──╫──╫──╫────╫──────╫──────╫──────╫──────╫──────╫──────╫──────╫────────────────────────────╫────────────────────╫────────────────────╫────────────────────╫───────────╫─\n",
       "                                                                                                                  ║            ║                    ║            ║            ║                    ║           ║  ║    ║      ║      ║      ║      ║      ║      ║      ║                         ║  ║  ║  ║  ║  ║  ║  ║    ║      ║      ║      ║      ║      ║      ║      ║                            ║                    ║                    ║                    ║           ║ \n",
       "        cswap_3_3: ───────────────────────────────────────────────────────────────────────────────────────────────╫────────────╫────────────────────╫────────────╫────────────╫────────────────────╫───────────╫──╫────╫──────╫──────╫──────╫──────╫──────╫──────╫──────╫─────────────────────────╫──╫──╫──╫──╫──╫──╫──╫────╫──────╫──────╫──────╫──────╫──────╫──────╫──────╫────────────────────────────╫────────────────────╫────────────────────╫────────────────────╫───────────╫─\n",
       "                                                                                                                  ║            ║                    ║            ║            ║                    ║           ║  ║    ║      ║      ║      ║      ║      ║      ║      ║                         ║  ║  ║  ║  ║  ║  ║  ║    ║      ║      ║      ║      ║      ║      ║      ║                            ║                    ║                    ║                    ║           ║ \n",
       "        cswap_4_0: ───────────────────────────────────────────────────────────────────────────────────────────────╫────────────╫────────────────────╫────────────╫────────────╫────────────────────╫───────────╫──╫────╫──────╫──────╫──────╫──────╫──────╫──────╫──────╫─────────────────────────╫──╫──╫──╫──╫──╫──╫──╫────╫──────╫──────╫──────╫──────╫──────╫──────╫──────╫────────────────────────────╫────────────────────╫────────────────────╫────────────────────╫───────────╫─\n",
       "                                                                                                                  ║            ║                    ║            ║            ║                    ║           ║  ║    ║      ║      ║      ║      ║      ║      ║      ║                         ║  ║  ║  ║  ║  ║  ║  ║    ║      ║      ║      ║      ║      ║      ║      ║                            ║                    ║                    ║                    ║           ║ \n",
       "        cswap_4_1: ───────────────────────────────────────────────────────────────────────────────────────────────╫────────────╫────────────────────╫────────────╫────────────╫────────────────────╫───────────╫──╫────╫──────╫──────╫──────╫──────╫──────╫──────╫──────╫─────────────────────────╫──╫──╫──╫──╫──╫──╫──╫────╫──────╫──────╫──────╫──────╫──────╫──────╫──────╫────────────────────────────╫────────────────────╫────────────────────╫────────────────────╫───────────╫─\n",
       "                                                                                                                  ║            ║                    ║            ║            ║                    ║           ║  ║    ║      ║      ║      ║      ║      ║      ║      ║                         ║  ║  ║  ║  ║  ║  ║  ║    ║      ║      ║      ║      ║      ║      ║      ║                            ║                    ║                    ║                    ║           ║ \n",
       "        cswap_4_2: ───────────────────────────────────────────────────────────────────────────────────────────────╫────────────╫────────────────────╫────────────╫────────────╫────────────────────╫───────────╫──╫────╫──────╫──────╫──────╫──────╫──────╫──────╫──────╫─────────────────────────╫──╫──╫──╫──╫──╫──╫──╫────╫──────╫──────╫──────╫──────╫──────╫──────╫──────╫────────────────────────────╫────────────────────╫────────────────────╫────────────────────╫───────────╫─\n",
       "                                                                                                                  ║            ║                    ║            ║            ║                    ║           ║  ║    ║      ║      ║      ║      ║      ║      ║      ║                         ║  ║  ║  ║  ║  ║  ║  ║    ║      ║      ║      ║      ║      ║      ║      ║                            ║                    ║                    ║                    ║           ║ \n",
       "        cswap_4_3: ───────────────────────────────────────────────────────────────────────────────────────────────╫────────────╫────────────────────╫────────────╫────────────╫────────────────────╫───────────╫──╫────╫──────╫──────╫──────╫──────╫──────╫──────╫──────╫─────────────────────────╫──╫──╫──╫──╫──╫──╫──╫────╫──────╫──────╫──────╫──────╫──────╫──────╫──────╫────────────────────────────╫────────────────────╫────────────────────╫────────────────────╫───────────╫─\n",
       "                                                                                                                  ║            ║                    ║            ║            ║                    ║           ║  ║    ║      ║      ║      ║      ║      ║      ║      ║                         ║  ║  ║  ║  ║  ║  ║  ║    ║      ║      ║      ║      ║      ║      ║      ║                            ║                    ║                    ║                    ║           ║ \n",
       " verify_measure: 1/═══════════════════════════════════════════════════════════════════════════════════════════════╬════════════╬════════════════════╬════════════╬════════════╬════════════════════╬═══════════╬══╬════╬══════╬══════╬══════╬══════╬══════╬══════╬══════╬═════════════════════════╬══╬══╬══╬══╬══╬══╬══╬════╬══════╬══════╬══════╬══════╬══════╬══════╬══════╬════════════════════════════╬════════════════════╬════════════════════╬════════════════════╬═══════════╩═\n",
       "                                                                                                                  ║            ║                    ║            ║            ║                    ║           ║  ║    ║      ║      ║      ║      ║      ║      ║      ║                         ║  ║  ║  ║  ║  ║  ║  ║    ║      ║      ║      ║      ║      ║      ║      ║                            ║                    ║                    ║                    ║           0 \n",
       "                                                                                                                  ║            ║                    ║            ║            ║                    ║           ║  ║    ║      ║      ║      ║      ║      ║      ║      ║                         ║  ║  ║  ║  ║  ║  ║  ║    ║      ║      ║      ║      ║      ║      ║      ║                            ║                    ║                    ║                    ║             \n",
       "  cswap_measure: 4/═══════════════════════════════════════════════════════════════════════════════════════════════╬════════════╬════════════════════╬════════════╬════════════╬════════════════════╬═══════════╬══╬════╬══════╬══════╬══════╬══════╬══════╬══════╬══════╬═════════════════════════╬══╬══╬══╬══╬══╬══╬══╬════╬══════╬══════╬══════╬══════╬══════╬══════╬══════╬════════════════════════════╩════════════════════╩════════════════════╩════════════════════╩═════════════\n",
       "                                                                                                                  ║            ║                    ║            ║            ║                    ║           ║  ║    ║      ║      ║      ║      ║      ║      ║      ║                         ║  ║  ║  ║  ║  ║  ║  ║    ║      ║      ║      ║      ║      ║      ║      ║                            0                    1                    2                    3             \n",
       "                                                                                                                  ║            ║                    ║            ║            ║                    ║           ║  ║    ║      ║      ║      ║      ║      ║      ║      ║                         ║  ║  ║  ║  ║  ║  ║  ║    ║      ║      ║      ║      ║      ║      ║      ║                                                                                                         \n",
       "cswap_measure_2: 4/═══════════════════════════════════════════════════════════════════════════════════════════════╬════════════╬════════════════════╬════════════╬════════════╬════════════════════╬═══════════╬══╬════╬══════╬══════╬══════╬══════╬══════╬══════╬══════╬═════════════════════════╬══╬══╬══╬══╬══╬══╬══╬════╬══════╬══════╬══════╬══════╬══════╬══════╬══════╬═════════════════════════════════════════════════════════════════════════════════════════════════════════\n",
       "                                                                                                                  ║            ║                    ║            ║            ║                    ║           ║  ║    ║      ║      ║      ║      ║      ║      ║      ║                         ║  ║  ║  ║  ║  ║  ║  ║    ║      ║      ║      ║      ║      ║      ║      ║                                                                                                         \n",
       "cswap_measure_3: 4/═══════════════════════════════════════════════════════════════════════════════════════════════╬════════════╬════════════════════╬════════════╬════════════╬════════════════════╬═══════════╬══╬════╬══════╬══════╬══════╬══════╬══════╬══════╬══════╬═════════════════════════╬══╬══╬══╬══╬══╬══╬══╬════╬══════╬══════╬══════╬══════╬══════╬══════╬══════╬═════════════════════════════════════════════════════════════════════════════════════════════════════════\n",
       "                                                                                                                  ║            ║                    ║            ║            ║                    ║           ║  ║    ║      ║      ║      ║      ║      ║      ║      ║                         ║  ║  ║  ║  ║  ║  ║  ║    ║      ║      ║      ║      ║      ║      ║      ║                                                                                                         \n",
       "cswap_measure_4: 4/═══════════════════════════════════════════════════════════════════════════════════════════════╬════════════╬════════════════════╬════════════╬════════════╬════════════════════╬═══════════╬══╬════╬══════╬══════╬══════╬══════╬══════╬══════╬══════╬═════════════════════════╬══╬══╬══╬══╬══╬══╬══╬════╬══════╬══════╬══════╬══════╬══════╬══════╬══════╬═════════════════════════════════════════════════════════════════════════════════════════════════════════\n",
       "                                                                                                                  ║            ║                    ║            ║            ║                    ║           ║  ║ ┌──╨──┐   ║      ║      ║      ║      ║      ║      ║                         ║  ║  ║  ║  ║  ║  ║  ║    ║      ║      ║      ║      ║      ║      ║      ║                                                                                                         \n",
       "          mac_0: 1/═══════════════════════════════════════════════════════════════════════════════════════════════╩════════════╬════════════════════╬════════════╬════════════╬════════════════════╬═══════════╬══╬═╡ = 1 ╞═══╬══════╬══════╬══════╬══════╬══════╬══════╬═════════════════════════╬══╬══╬══╬══╬══╬══╬══╬════╬══════╬══════╬══════╬══════╬══════╬══════╬══════╬═════════════════════════════════════════════════════════════════════════════════════════════════════════\n",
       "                                                                                                                  0            ║                    ║            ║            ║                    ║           ║  ║ └─────┘┌──╨──┐   ║      ║      ║      ║      ║      ║                         ║  ║  ║  ║  ║  ║  ║  ║    ║      ║      ║      ║      ║      ║      ║      ║                                                                                                         \n",
       "          mac_1: 1/════════════════════════════════════════════════════════════════════════════════════════════════════════════╩════════════════════╬════════════╬════════════╬════════════════════╬═══════════╬══╬════════╡ = 1 ╞═══╬══════╬══════╬══════╬══════╬══════╬═════════════════════════╬══╬══╬══╬══╬══╬══╬══╬════╬══════╬══════╬══════╬══════╬══════╬══════╬══════╬═════════════════════════════════════════════════════════════════════════════════════════════════════════\n",
       "                                                                                                                               0                    ║            ║            ║                    ║           ║  ║        └─────┘┌──╨──┐   ║      ║      ║      ║      ║                         ║  ║  ║  ║  ║  ║  ║  ║    ║      ║      ║      ║      ║      ║      ║      ║                                                                                                         \n",
       "          mac_2: 1/═════════════════════════════════════════════════════════════════════════════════════════════════════════════════════════════════╩════════════╬════════════╬════════════════════╬═══════════╬══╬═══════════════╡ = 1 ╞═══╬══════╬══════╬══════╬══════╬═════════════════════════╬══╬══╬══╬══╬══╬══╬══╬════╬══════╬══════╬══════╬══════╬══════╬══════╬══════╬═════════════════════════════════════════════════════════════════════════════════════════════════════════\n",
       "                                                                                                                                                    0            ║            ║                    ║           ║  ║               └─────┘┌──╨──┐   ║      ║      ║      ║                         ║  ║  ║  ║  ║  ║  ║  ║    ║      ║      ║      ║      ║      ║      ║      ║                                                                                                         \n",
       "          mac_3: 1/══════════════════════════════════════════════════════════════════════════════════════════════════════════════════════════════════════════════╩════════════╬════════════════════╬═══════════╬══╬══════════════════════╡ = 1 ╞═══╬══════╬══════╬══════╬═════════════════════════╬══╬══╬══╬══╬══╬══╬══╬════╬══════╬══════╬══════╬══════╬══════╬══════╬══════╬═════════════════════════════════════════════════════════════════════════════════════════════════════════\n",
       "                                                                                                                                                                 0            ║                    ║           ║  ║                      └─────┘┌──╨──┐   ║      ║      ║                         ║  ║  ║  ║  ║  ║  ║  ║    ║      ║      ║      ║      ║      ║      ║      ║                                                                                                         \n",
       "          mac_4: 1/═══════════════════════════════════════════════════════════════════════════════════════════════════════════════════════════════════════════════════════════╩════════════════════╬═══════════╬══╬═════════════════════════════╡ = 1 ╞═══╬══════╬══════╬═════════════════════════╬══╬══╬══╬══╬══╬══╬══╬════╬══════╬══════╬══════╬══════╬══════╬══════╬══════╬═════════════════════════════════════════════════════════════════════════════════════════════════════════\n",
       "                                                                                                                                                                              0                    ║           ║  ║                             └─────┘┌──╨──┐   ║      ║                         ║  ║  ║  ║  ║  ║  ║  ║    ║      ║      ║      ║      ║      ║      ║      ║                                                                                                         \n",
       "          mac_5: 1/════════════════════════════════════════════════════════════════════════════════════════════════════════════════════════════════════════════════════════════════════════════════╩═══════════╬══╬════════════════════════════════════╡ = 1 ╞═══╬══════╬═════════════════════════╬══╬══╬══╬══╬══╬══╬══╬════╬══════╬══════╬══════╬══════╬══════╬══════╬══════╬═════════════════════════════════════════════════════════════════════════════════════════════════════════\n",
       "                                                                                                                                                                                                   0           ║  ║                                    └─────┘┌──╨──┐   ║                         ║  ║  ║  ║  ║  ║  ║  ║    ║      ║      ║      ║      ║      ║      ║      ║                                                                                                         \n",
       "          mac_6: 1/════════════════════════════════════════════════════════════════════════════════════════════════════════════════════════════════════════════════════════════════════════════════════════════╩══╬═══════════════════════════════════════════╡ = 1 ╞═══╬═════════════════════════╬══╬══╬══╬══╬══╬══╬══╬════╬══════╬══════╬══════╬══════╬══════╬══════╬══════╬═════════════════════════════════════════════════════════════════════════════════════════════════════════\n",
       "                                                                                                                                                                                                               0  ║                                           └─────┘┌──╨──┐                      ║  ║  ║  ║  ║  ║  ║  ║    ║      ║      ║      ║      ║      ║      ║      ║                                                                                                         \n",
       "          mac_7: 1/═══════════════════════════════════════════════════════════════════════════════════════════════════════════════════════════════════════════════════════════════════════════════════════════════╩══════════════════════════════════════════════════╡ = 1 ╞══════════════════════╬══╬══╬══╬══╬══╬══╬══╬════╬══════╬══════╬══════╬══════╬══════╬══════╬══════╬═════════════════════════════════════════════════════════════════════════════════════════════════════════\n",
       "                                                                                                                                                                                                                  0                                                  └─────┘                      ║  ║  ║  ║  ║  ║  ║  ║ ┌──╨──┐   ║      ║      ║      ║      ║      ║      ║                                                                                                         \n",
       " m_a_1_measure0: 1/═══════════════════════════════════════════════════════════════════════════════════════════════════════════════════════════════════════════════════════════════════════════════════════════════════════════════════════════════════════════════════════════════════════════════╩══╬══╬══╬══╬══╬══╬══╬═╡ = 1 ╞═══╬══════╬══════╬══════╬══════╬══════╬══════╬═════════════════════════════════════════════════════════════════════════════════════════════════════════\n",
       "                                                                                                                                                                                                                                                                                                  0  ║  ║  ║  ║  ║  ║  ║ └─────┘   ║      ║      ║   ┌──╨──┐   ║      ║      ║                                                                                                         \n",
       " m_a_2_measure0: 1/══════════════════════════════════════════════════════════════════════════════════════════════════════════════════════════════════════════════════════════════════════════════════════════════════════════════════════════════════════════════════════════════════════════════════╩══╬══╬══╬══╬══╬══╬═══════════╬══════╬══════╬═══╡ = 1 ╞═══╬══════╬══════╬═════════════════════════════════════════════════════════════════════════════════════════════════════════\n",
       "                                                                                                                                                                                                                                                                                                     0  ║  ║  ║  ║  ║  ║        ┌──╨──┐   ║      ║   └─────┘   ║      ║      ║                                                                                                         \n",
       " m_a_1_measure1: 1/═════════════════════════════════════════════════════════════════════════════════════════════════════════════════════════════════════════════════════════════════════════════════════════════════════════════════════════════════════════════════════════════════════════════════════╩══╬══╬══╬══╬══╬════════╡ = 1 ╞═══╬══════╬═════════════╬══════╬══════╬═════════════════════════════════════════════════════════════════════════════════════════════════════════\n",
       "                                                                                                                                                                                                                                                                                                        0  ║  ║  ║  ║  ║        └─────┘   ║      ║          ┌──╨──┐   ║      ║                                                                                                         \n",
       " m_a_2_measure1: 1/════════════════════════════════════════════════════════════════════════════════════════════════════════════════════════════════════════════════════════════════════════════════════════════════════════════════════════════════════════════════════════════════════════════════════════╩══╬══╬══╬══╬══════════════════╬══════╬══════════╡ = 1 ╞═══╬══════╬═════════════════════════════════════════════════════════════════════════════════════════════════════════\n",
       "                                                                                                                                                                                                                                                                                                           0  ║  ║  ║  ║               ┌──╨──┐   ║          └─────┘   ║      ║                                                                                                         \n",
       " m_a_1_measure2: 1/═══════════════════════════════════════════════════════════════════════════════════════════════════════════════════════════════════════════════════════════════════════════════════════════════════════════════════════════════════════════════════════════════════════════════════════════╩══╬══╬══╬═══════════════╡ = 1 ╞═══╬════════════════════╬══════╬═════════════════════════════════════════════════════════════════════════════════════════════════════════\n",
       "                                                                                                                                                                                                                                                                                                              0  ║  ║  ║               └─────┘   ║                 ┌──╨──┐   ║                                                                                                         \n",
       " m_a_2_measure2: 1/══════════════════════════════════════════════════════════════════════════════════════════════════════════════════════════════════════════════════════════════════════════════════════════════════════════════════════════════════════════════════════════════════════════════════════════════╩══╬══╬═════════════════════════╬═════════════════╡ = 1 ╞═══╬═════════════════════════════════════════════════════════════════════════════════════════════════════════\n",
       "                                                                                                                                                                                                                                                                                                                 0  ║  ║                      ┌──╨──┐              └─────┘   ║                                                                                                         \n",
       " m_a_1_measure3: 1/═════════════════════════════════════════════════════════════════════════════════════════════════════════════════════════════════════════════════════════════════════════════════════════════════════════════════════════════════════════════════════════════════════════════════════════════════╩══╬══════════════════════╡ = 1 ╞════════════════════════╬═════════════════════════════════════════════════════════════════════════════════════════════════════════\n",
       "                                                                                                                                                                                                                                                                                                                    0  ║                      └─────┘                     ┌──╨──┐                                                                                                      \n",
       " m_a_2_measure3: 1/════════════════════════════════════════════════════════════════════════════════════════════════════════════════════════════════════════════════════════════════════════════════════════════════════════════════════════════════════════════════════════════════════════════════════════════════════╩══════════════════════════════════════════════════╡ = 1 ╞══════════════════════════════════════════════════════════════════════════════════════════════════════\n",
       "                                                                                                                                                                                                                                                                                                                       0                                                  └─────┘                                                                                                      "
      ]
     },
     "execution_count": 107,
     "metadata": {},
     "output_type": "execute_result"
    }
   ],
   "source": [
    "qc.draw(fold=-1)"
   ]
  },
  {
   "cell_type": "code",
   "execution_count": 108,
   "id": "365245bc",
   "metadata": {},
   "outputs": [
    {
     "name": "stdout",
     "output_type": "stream",
     "text": [
      "\n",
      "\n",
      "{'1 1 1 1 0 1 1 1 1 1 1 1 0 1 1 1 0000 0000 0000 0000 1': 1, '1 1 0 1 0 1 0 1 1 1 0 1 0 1 0 1 0000 0000 0000 0000 1': 1, '1 0 1 1 0 1 0 1 1 0 1 1 0 1 0 1 0000 0000 0000 0000 1': 2, '0 1 0 0 1 1 1 0 0 1 0 0 1 1 1 0 0000 0000 0000 0000 1': 1, '1 0 1 1 0 1 1 0 1 0 1 1 0 1 1 0 0000 0000 0000 0000 1': 1, '0 0 0 1 0 1 0 0 0 0 0 1 0 1 0 0 0000 0000 0000 0000 1': 1, '0 1 0 0 1 1 1 1 0 1 0 0 1 1 1 1 0000 0000 0000 0000 1': 1, '0 1 1 0 0 0 0 1 0 1 1 0 0 0 0 1 0000 0000 0000 0000 1': 1, '1 1 0 0 0 1 1 0 1 1 0 0 0 1 1 0 0000 0000 0000 0000 1': 1}\n"
     ]
    }
   ],
   "source": [
    "qc.append(chained_cnot_dec(n, K_R), B_bell)\n",
    "qc.append(chained_cnot_dec(n, K_R), P_enc)\n",
    "\n",
    "qc.append(cswap_comparison(n), [*B_bell, *P_enc, *cswap_2])\n",
    "\n",
    "qc.measure(cswap_2, cswap_measure_2)\n",
    "result = get_measurements(qc, 10)\n",
    "counts = result.get_counts()\n",
    "print(counts)"
   ]
  },
  {
   "cell_type": "code",
   "execution_count": 120,
   "id": "099d321f",
   "metadata": {},
   "outputs": [
    {
     "name": "stdout",
     "output_type": "stream",
     "text": [
      "True\n"
     ]
    }
   ],
   "source": [
    "identical = True\n",
    "for key in counts:\n",
    "    if key[-11:-7] != \"0000\":\n",
    "        identical = False\n",
    "print(identical)"
   ]
  },
  {
   "cell_type": "code",
   "execution_count": 121,
   "id": "c4e36086",
   "metadata": {},
   "outputs": [
    {
     "data": {
      "text/plain": [
       "<qiskit.circuit.instructionset.InstructionSet at 0x13903aca0>"
      ]
     },
     "execution_count": 121,
     "metadata": {},
     "output_type": "execute_result"
    }
   ],
   "source": [
    "# re-encode everything after swap-test\n",
    "qc.append(chained_cnot_enc(n, K_R), B_bell)\n",
    "qc.append(chained_cnot_enc(n, K_R), P_enc)"
   ]
  },
  {
   "cell_type": "code",
   "execution_count": 122,
   "id": "a93c8d58",
   "metadata": {},
   "outputs": [
    {
     "name": "stdout",
     "output_type": "stream",
     "text": [
      "Alice publishes KR\n",
      "\n",
      "{'1 1 1 1 1 1 0 0 1 1 1 1 1 1 0 0 0000 0000 0000 0000 1': 1, '0 1 1 0 1 0 0 0 0 1 1 0 1 0 0 0 0000 0000 0000 0000 1': 1, '0 1 1 0 0 1 1 1 0 1 1 0 0 1 1 1 0000 0000 0000 0000 1': 1, '0 0 1 1 0 1 1 0 0 0 1 1 0 1 1 0 0000 0000 0000 0000 1': 1, '0 0 1 0 1 1 0 1 0 0 1 0 1 1 0 1 0000 0000 0000 0000 1': 1, '1 0 1 0 1 0 0 0 1 0 1 0 1 0 0 0 0000 0000 0000 0000 1': 1, '1 1 0 1 1 1 1 0 1 1 0 1 1 1 1 0 0000 0000 0000 0000 1': 1, '1 0 1 0 1 1 0 1 1 0 1 0 1 1 0 1 0000 0000 0000 0000 1': 1, '1 0 0 1 1 0 1 0 1 0 0 1 1 0 1 0 0000 0000 0000 0000 1': 2}\n"
     ]
    }
   ],
   "source": [
    "if not identical: \n",
    "    print(\"Abort\")\n",
    "else : \n",
    "    print(\"Alice publishes KR\")\n",
    "    qc.append(chained_cnot_dec(n, K_R), P_enc) # Bob obtains P_original"
   ]
  },
  {
   "cell_type": "code",
   "execution_count": 125,
   "id": "c9b4e342",
   "metadata": {},
   "outputs": [
    {
     "name": "stdout",
     "output_type": "stream",
     "text": [
      "True\n"
     ]
    }
   ],
   "source": [
    "identical = True\n",
    "for key in counts:\n",
    "    if key[-16:-12] != \"0000\":\n",
    "        identical = False\n",
    "print(identical)"
   ]
  },
  {
   "cell_type": "code",
   "execution_count": 126,
   "id": "55145afa",
   "metadata": {},
   "outputs": [
    {
     "name": "stdout",
     "output_type": "stream",
     "text": [
      "\n",
      "\n",
      "{'0 1 1 1 1 1 0 1 0 1 1 1 1 1 0 1 0000 0000 0000 0000 1': 1, '1 1 1 1 1 0 0 0 1 1 1 1 1 0 0 0 0000 0000 0000 0000 1': 1, '0 0 1 1 0 1 0 1 0 0 1 1 0 1 0 1 0000 0000 0000 0000 1': 1, '1 1 0 1 1 0 1 0 1 1 0 1 1 0 1 0 0000 0000 0000 0000 1': 1, '1 1 1 1 0 0 0 1 1 1 1 1 0 0 0 1 0000 0000 0000 0000 1': 1, '1 0 0 0 1 1 1 0 1 0 0 0 1 1 1 0 0000 0000 0000 0000 1': 1, '0 1 0 0 0 1 0 1 0 1 0 0 0 1 0 1 0000 0000 0000 0000 1': 1, '0 0 0 1 0 1 1 0 0 0 0 1 0 1 1 0 0000 0000 0000 0000 1': 1, '0 0 1 1 1 0 1 0 0 0 1 1 1 0 1 0 0000 0000 0000 0000 1': 1, '1 1 0 0 0 0 1 0 1 1 0 0 0 0 1 0 0000 0000 0000 0000 1': 1}\n"
     ]
    }
   ],
   "source": [
    "# DISPUTE RESOLVE \n",
    "# BOB : P, K_R, S_A\n",
    "\n",
    "# TRENT decodes S_T to check if same as BOB's original key\n",
    "qc.append(chained_cnot_dec(n, K_AT), S_A)\n",
    "qc.append(chained_cnot_dec(n, K_R), S_A)\n",
    "qc.append(cswap_comparison(n), [*P_enc, *S_A, *cswap_4])\n",
    "\n",
    "qc.measure(cswap_4, cswap_measure_4)\n",
    "\n",
    "result = get_measurements(qc, 10)\n",
    "counts_s = result.get_counts()\n",
    "print(counts_s)"
   ]
  },
  {
   "cell_type": "code",
   "execution_count": 127,
   "id": "997907dc",
   "metadata": {},
   "outputs": [
    {
     "name": "stdout",
     "output_type": "stream",
     "text": [
      "True\n"
     ]
    }
   ],
   "source": [
    "identical = True\n",
    "for key in counts:\n",
    "    if key[-21:-17] != \"0000\":\n",
    "        identical = False\n",
    "print(identical)"
   ]
  }
 ],
 "metadata": {
  "kernelspec": {
   "display_name": "Python 3",
   "language": "python",
   "name": "python3"
  },
  "language_info": {
   "codemirror_mode": {
    "name": "ipython",
    "version": 3
   },
   "file_extension": ".py",
   "mimetype": "text/x-python",
   "name": "python",
   "nbconvert_exporter": "python",
   "pygments_lexer": "ipython3",
   "version": "3.9.7"
  }
 },
 "nbformat": 4,
 "nbformat_minor": 5
}

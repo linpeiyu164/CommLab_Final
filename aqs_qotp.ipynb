{
 "cells": [
  {
   "cell_type": "markdown",
   "id": "favorite-insertion",
   "metadata": {},
   "source": [
    "# CommLab Final Project: AQS Implementation with QOTP"
   ]
  },
  {
   "cell_type": "markdown",
   "id": "secondary-alabama",
   "metadata": {},
   "source": [
    "## Import packages"
   ]
  },
  {
   "cell_type": "code",
   "execution_count": null,
   "id": "level-portugal",
   "metadata": {},
   "outputs": [],
   "source": [
    "from qiskit import *\n",
    "import numpy as np\n",
    "from qiskit.tools.visualization import circuit_drawer\n",
    "from QKD import QKD\n",
    "from matplotlib import *"
   ]
  },
  {
   "cell_type": "code",
   "execution_count": null,
   "id": "3b4616bb",
   "metadata": {},
   "outputs": [],
   "source": [
    "qasm_sim = Aer.get_backend('qasm_simulator')\n",
    "def get_measurements(qc, num_shots): \n",
    "    job = execute(qc, qasm_sim, memory = True, shots = num_shots) \n",
    "    result = job.result()\n",
    "    return result"
   ]
  },
  {
   "cell_type": "markdown",
   "id": "dramatic-lucas",
   "metadata": {},
   "source": [
    "## Initializing phase"
   ]
  },
  {
   "cell_type": "code",
   "execution_count": null,
   "id": "limited-american",
   "metadata": {},
   "outputs": [],
   "source": [
    "def bin_to_int_key(bin_key):\n",
    "    # transform binary key shared by alice and trent into KAT(integer based key)\n",
    "    n = len(bin_key)\n",
    "    int_key = []\n",
    "    zero = []\n",
    "    one = []\n",
    "    for i in range(0,n):\n",
    "        if not bin_key[i]:\n",
    "            zero.append(i)\n",
    "        else:\n",
    "            one.append(i)\n",
    "    int_key = zero + one\n",
    "    return int_key\n",
    "\n",
    "def generate_message(n):\n",
    "    message = QuantumRegister(n, name=\"p\")\n",
    "    message_measure = ClassicalRegister(n, name=\"p_c\")\n",
    "    qc = QuantumCircuit(message, message_measure)\n",
    "    for i in range(n):\n",
    "        random_state = quantum_info.random_statevector(dims=2, seed=None)\n",
    "        qc.initialize(random_state, message[i])\n",
    "    return qc\n",
    "\n",
    "# will be replaced with QKD\n",
    "def get_shared_key(n):\n",
    "    r_AT = QKD(n)\n",
    "    r_BT = QKD(2*n + 1)\n",
    "    \n",
    "    K_AT = bin_to_int_key(r_AT)\n",
    "    K_BT = bin_to_int_key(r_BT)\n",
    "    \n",
    "    return K_AT, K_BT, r_BT\n",
    "\n",
    "def create_bell_states(n):\n",
    "    A_pos = QuantumRegister(n)\n",
    "    B_pos = QuantumRegister(n)  \n",
    "    qc = QuantumCircuit(A_pos, B_pos)\n",
    "    \n",
    "    for i in range(n):\n",
    "        qc.h(A_pos[i])\n",
    "        qc.cnot(A_pos[i], B_pos[i])\n",
    "    return qc.to_instruction(label=\"bell_state\")"
   ]
  },
  {
   "cell_type": "code",
   "execution_count": null,
   "id": "stuck-blood",
   "metadata": {
    "scrolled": true
   },
   "outputs": [],
   "source": [
    "n = 4\n",
    "shots = 100\n",
    "\n",
    "P = QuantumRegister(n, name=\"p_original\")\n",
    "P_enc = QuantumRegister(n, name=\"p_enc\")\n",
    "M_A_1 = QuantumRegister(n, name=\"m_a_1\")\n",
    "M_A_2 = QuantumRegister(n, name=\"m_a_2\")\n",
    "M_A_1_T = QuantumRegister(n, name=\"m_a_1_t\")\n",
    "M_A_2_T = QuantumRegister(n, name=\"m_a_2_t\")\n",
    "M_A_1_sig = QuantumRegister(n, name=\"m_a_1_sig\")\n",
    "M_A_2_sig = QuantumRegister(n, name=\"m_a_2_sig\")\n",
    "A_bell = QuantumRegister(n, name=\"alice_bell\")\n",
    "B_bell = QuantumRegister(n, name=\"bob_bell\")\n",
    "for_M_A = QuantumRegister(n, name=\"m_a_mea\")\n",
    "verify = QuantumRegister(2, name=\"verify\")\n",
    "verify_measure = ClassicalRegister(2, name=\"verify_measure\")\n",
    "cswap_measure = ClassicalRegister(1, name=\"cswap_measure\")\n",
    "cswap = QuantumRegister(1, name=\"cswap\")\n",
    "cswap_measure_2 = ClassicalRegister(1, name=\"cswap_measure_2\")\n",
    "cswap_2 = QuantumRegister(1, name=\"cswap_2\")\n",
    "cswap_measure_3 = ClassicalRegister(1, name=\"cswap_measure_3\")\n",
    "cswap_3 = QuantumRegister(1, name=\"cswap_3\")\n",
    "cswap_measure_4 = ClassicalRegister(1, name=\"cswap_measure_4\")\n",
    "cswap_4 = QuantumRegister(1, name=\"cswap_4\")\n",
    "\n",
    "qc = QuantumCircuit(P, P_enc, M_A_1, M_A_2, M_A_1_T, M_A_2_T, M_A_1_sig, M_A_2_sig, \n",
    "                    A_bell, B_bell, for_M_A, verify, verify_measure,\n",
    "                    cswap, cswap_2, cswap_3, cswap_4, \n",
    "                    cswap_measure, cswap_measure_2, cswap_measure_3, cswap_measure_4)\n",
    "\n",
    "get_M_A = []\n",
    "\n",
    "for m in range(2*n):\n",
    "    get_M_A.append(ClassicalRegister(1, 'mac_' + str(m)))\n",
    "    qc.add_register(get_M_A[m])\n",
    "\n",
    "measure_M_A_1 = []\n",
    "measure_M_A_2 = []\n",
    "measure_M_A_1_T = []\n",
    "measure_M_A_2_T = []\n",
    "for m in range(n):\n",
    "    measure_M_A_1.append(ClassicalRegister(1, 'm_a_1_measure'+str(m)))\n",
    "    measure_M_A_2.append(ClassicalRegister(1, 'm_a_2_measure'+str(m)))\n",
    "    measure_M_A_1_T.append(ClassicalRegister(1, 'm_a_1_t_measure'+str(m)))\n",
    "    measure_M_A_2_T.append(ClassicalRegister(1, 'm_a_2_t_measure'+str(m)))\n",
    "\n",
    "for m in range(n):\n",
    "    qc.add_register(measure_M_A_1[m])\n",
    "for m in range(n):\n",
    "    qc.add_register(measure_M_A_2[m])\n",
    "for m in range(n):\n",
    "    qc.add_register(measure_M_A_1_T[m])\n",
    "for m in range(n):\n",
    "    qc.add_register(measure_M_A_2_T[m])\n",
    "\n",
    "# Step 1 : 3 copies of the message\n",
    "for i in range(n):\n",
    "    random_state = quantum_info.random_statevector(dims=2, seed=None)\n",
    "    qc.initialize(random_state, P[i])\n",
    "    qc.initialize(random_state, P_enc[i])\n",
    "    qc.initialize(random_state, for_M_A[i])\n",
    "    \n",
    "\n",
    "# keys generation\n",
    "K_AT, K_BT, _ = get_shared_key(20*n)\n",
    "\n",
    "# Step 2 : generate bell states between Alice, Bob\n",
    "AB_bell = []\n",
    "for i in range(n):\n",
    "    AB_bell.append(A_bell[i])\n",
    "for i in range(n):\n",
    "    AB_bell.append(B_bell[i])\n",
    "qc.append(create_bell_states(n), AB_bell)"
   ]
  },
  {
   "cell_type": "markdown",
   "id": "educated-logan",
   "metadata": {},
   "source": [
    "## Signing phase"
   ]
  },
  {
   "cell_type": "code",
   "execution_count": null,
   "id": "outstanding-worthy",
   "metadata": {},
   "outputs": [],
   "source": [
    "def qotp(n, KAT_2n, type):\n",
    "    # n = len(P)\n",
    "    # KAT has length 2n\n",
    "    q = QuantumRegister(n)\n",
    "    qc = QuantumCircuit(q)\n",
    "    for i in range(0,n):\n",
    "        if KAT_2n[2*i]:\n",
    "            qc.x(i)\n",
    "        if KAT_2n[2*i+1]:\n",
    "            qc.z(i)\n",
    "    return qc.to_instruction(label=\"qotp_\"+type)\n",
    "    \n",
    "def secret_qubit(K, type):\n",
    "    n = len(K)\n",
    "    q = QuantumRegister(n)\n",
    "    qc = QuantumCircuit(q)\n",
    "    for i in range(0,n):\n",
    "        if K[i] == 0:\n",
    "            qc.x(q[i])\n",
    "        else :\n",
    "            qc.z(q[i])\n",
    "    return qc.to_instruction(label=\"secret_qubit_\"+type)\n",
    "\n",
    "def chained_cnot_dec(n, K):\n",
    "    q = QuantumRegister(n)\n",
    "    qc = QuantumCircuit(q)\n",
    "    print()\n",
    "    for i in reversed(range(0,n)):\n",
    "        if i != K[i]:\n",
    "            qc.cnot(i, K[i])\n",
    "    return qc.to_instruction(label=\"chained_cnot_dec\")\n",
    "\n",
    "def bell_measurement(n):\n",
    "    q1 = QuantumRegister(n)\n",
    "    q2 = QuantumRegister(n)\n",
    "    qc = QuantumCircuit(q1, q2)\n",
    "    for i in range(n):\n",
    "        qc.cnot(q1[i], q2[i])\n",
    "        qc.h(q1[i])\n",
    "    return qc.to_instruction(label=\"bell_measurement\")"
   ]
  },
  {
   "cell_type": "code",
   "execution_count": null,
   "id": "wrapped-holocaust",
   "metadata": {
    "scrolled": true
   },
   "outputs": [],
   "source": [
    "# Step 1 : 2nd copy of P --> P_enc\n",
    "qc.append(secret_qubit(K_AT[:n], \"enc\"), P_enc)\n",
    "\n",
    "# Step 3 : generate one type of bell state (to transform into other bell states later)\n",
    "bell_m = []\n",
    "\n",
    "for i in range(n):\n",
    "    bell_m.append(M_A_1[i])\n",
    "for i in range(n):\n",
    "    bell_m.append(M_A_2[i])\n",
    "qc.append(create_bell_states(n), bell_m)\n",
    "\n",
    "bell_m = []\n",
    "# bell_m is P_enc and A_bell concatenated\n",
    "\n",
    "for i in range(n):\n",
    "    bell_m.append(A_bell[i]) # A's bell state\n",
    "for i in range(n): \n",
    "    bell_m.append(for_M_A[i]) # P\n",
    "\n",
    "qc.append(bell_measurement(n), bell_m) # do bell measurement on A's bell and P"
   ]
  },
  {
   "cell_type": "code",
   "execution_count": null,
   "id": "passive-trout",
   "metadata": {},
   "outputs": [],
   "source": [
    "for i in range(n):\n",
    "    qc.measure(A_bell[i], get_M_A[2*i])\n",
    "    qc.measure(for_M_A[i], get_M_A[2*i+1])\n",
    "    qc.z(M_A_1[i]).c_if(get_M_A[2*i], 1)\n",
    "    qc.x(M_A_2[i]).c_if(get_M_A[2*i+1], 1)"
   ]
  },
  {
   "cell_type": "code",
   "execution_count": null,
   "id": "e2c35273",
   "metadata": {},
   "outputs": [],
   "source": [
    "S = [*P_enc, *M_A_1, *M_A_2]\n",
    "qc.append(qotp(3*n, K_AT[:6*n], \"enc\"), S)"
   ]
  },
  {
   "cell_type": "markdown",
   "id": "9d457b34",
   "metadata": {},
   "source": [
    "## Verification Phase"
   ]
  },
  {
   "cell_type": "code",
   "execution_count": null,
   "id": "7a57b5a7",
   "metadata": {},
   "outputs": [],
   "source": [
    "def cswap_comparison(n):\n",
    "    # q1, q2 : qubits to compare\n",
    "    # for_measure : the qubits to measure\n",
    "    q1 = QuantumRegister(n)\n",
    "    q2 = QuantumRegister(n)\n",
    "    for_measure = QuantumRegister(1)\n",
    "    qc = QuantumCircuit(q1, q2, for_measure)\n",
    "    qc.h(for_measure[0])\n",
    "    for i in range(n):\n",
    "        qc.cswap(for_measure[0], q1[i], q2[i])\n",
    "    qc.h(for_measure[0])\n",
    "    return qc.to_instruction(label=\"swap test\")\n",
    "    # cswap measurement = 0 --> same"
   ]
  },
  {
   "cell_type": "code",
   "execution_count": null,
   "id": "ad09dd24",
   "metadata": {},
   "outputs": [],
   "source": [
    "# step 1 : Bob receives S, P (from Alice) --> YB = EKB(S, P)\n",
    "qc.append(qotp(4*n, K_BT[:8*n], \"enc\"), [*S, *P])\n",
    "\n",
    "# step 2 : Trent : decrypts YB --> (P, S) --> (P, P_enc, M_A_1, M_A_2)\n",
    "qc.append(qotp(4*n, K_BT[:8*n], \"dec\"), [*S, *P])\n",
    "qc.append(qotp(3*n, K_AT[:6*n], \"dec\"), S)\n",
    "\n",
    "# checks if P_enc calculated = P_enc sent\n",
    "qc.append(secret_qubit(K_AT[:n], \"enc\"), P)\n",
    "qc.append(cswap_comparison(n), [*P, *P_enc, *cswap])\n",
    "qc.measure(cswap, cswap_measure)\n",
    "\n",
    "result = get_measurements(qc, shots)\n",
    "counts = result.get_counts()\n",
    "print(counts)"
   ]
  },
  {
   "cell_type": "code",
   "execution_count": null,
   "id": "ee63c90d",
   "metadata": {},
   "outputs": [],
   "source": [
    "identical = True\n",
    "for key in counts:\n",
    "    if key[-4] != \"0\":\n",
    "        identical = False\n",
    "print(identical)"
   ]
  },
  {
   "cell_type": "code",
   "execution_count": null,
   "id": "bae3c4e9",
   "metadata": {},
   "outputs": [],
   "source": [
    "if identical : \n",
    "    qc.x(verify[0])"
   ]
  },
  {
   "cell_type": "code",
   "execution_count": null,
   "id": "0c65c374",
   "metadata": {},
   "outputs": [],
   "source": [
    "# step 3 : Trent recovers P\n",
    "qc.append(secret_qubit(K_AT[:n], \"dec\"), P)\n",
    "\n",
    "# measures Alice's bell states and replicate them\n",
    "qc.append(create_bell_states(n), [*M_A_1_T, *M_A_2_T])\n",
    "qc.append(create_bell_states(n), [*M_A_1_sig, *M_A_2_sig])\n",
    "\n",
    "qc.append(bell_measurement(n), [*M_A_1, *M_A_2])\n",
    "\n",
    "for i in range(n):\n",
    "    qc.measure(M_A_1[i], measure_M_A_1[i])\n",
    "    qc.measure(M_A_2[i], measure_M_A_2[i])\n",
    "    qc.z(M_A_1_T[i]).c_if(measure_M_A_1[i], 1)\n",
    "    qc.x(M_A_2_T[i]).c_if(measure_M_A_2[i], 1)\n",
    "    qc.z(M_A_1_sig[i]).c_if(measure_M_A_1[i], 1)\n",
    "    qc.x(M_A_2_sig[i]).c_if(measure_M_A_2[i], 1)\n",
    "# sends YTB = EKB(M_A_1_T, M_A_2_T, S, P, r) size = 6N+2\n",
    "S = [*P_enc, *M_A_1_sig, *M_A_2_sig]\n",
    "qc.append(qotp(3*n, K_AT[:6*n], \"enc\"), S)\n",
    "qc.append(qotp(6*n+2, K_BT[:12*n+4], \"enc\"), [*M_A_1_T, *M_A_2_T, *S, *P, *verify])\n",
    "\n",
    "# #step 4 : Bob decrypts and checks verify bits\n",
    "qc.append(qotp(6*n+2, K_BT[:12*n+4], \"dec\"), [*M_A_1_T, *M_A_2_T, *S, *P, *verify])\n",
    "qc.measure(verify, verify_measure)\n",
    "qc.barrier()\n",
    "result = get_measurements(qc, 10)\n",
    "counts = result.get_counts()\n",
    "print(counts)"
   ]
  },
  {
   "cell_type": "code",
   "execution_count": null,
   "id": "6d7794b7",
   "metadata": {},
   "outputs": [],
   "source": [
    "# check if verifiable \n",
    "identical = True\n",
    "for key in counts:\n",
    "    if key[-2:] != '01':\n",
    "        identical = False\n",
    "print(identical)"
   ]
  },
  {
   "cell_type": "code",
   "execution_count": null,
   "id": "6969b31f",
   "metadata": {},
   "outputs": [],
   "source": [
    "if not identical :\n",
    "    print(\"Signature is forged, protocol terminates\")\n",
    "else:\n",
    "    # Bob has M_A_1_T, M_A_2_T, S, P, verify\n",
    "    qc.append(bell_measurement(n), [*M_A_1_T, *M_A_2_T])\n",
    "    for i in range(n):\n",
    "        qc.measure(M_A_1_T[i], measure_M_A_1_T[i])\n",
    "        qc.measure(M_A_2_T[i], measure_M_A_2_T[i])\n",
    "        qc.z(B_bell[i]).c_if(measure_M_A_1_T[i], 1)\n",
    "        qc.x(B_bell[i]).c_if(measure_M_A_2_T[i], 1)\n",
    "    qc.barrier()\n",
    "    qc.append(cswap_comparison(n), [*B_bell, *P, *cswap_2])\n",
    "    qc.measure(cswap_2, cswap_measure_2)"
   ]
  },
  {
   "cell_type": "code",
   "execution_count": null,
   "id": "91bc1d09",
   "metadata": {},
   "outputs": [],
   "source": [
    "result = get_measurements(qc, shots)\n",
    "counts = result.get_counts()"
   ]
  },
  {
   "cell_type": "code",
   "execution_count": null,
   "id": "8e4b8d2e",
   "metadata": {},
   "outputs": [],
   "source": [
    "identical = True\n",
    "for keys in counts:\n",
    "    if keys[-6] != '0':\n",
    "        identical = False\n",
    "print(identical)"
   ]
  },
  {
   "cell_type": "code",
   "execution_count": null,
   "id": "16fd1759",
   "metadata": {},
   "outputs": [],
   "source": [
    "if not identical : \n",
    "    print(\"Reject signature\")\n",
    "else :\n",
    "    print(\"Accept Signature\")"
   ]
  },
  {
   "cell_type": "code",
   "execution_count": null,
   "id": "2c52a59f",
   "metadata": {},
   "outputs": [],
   "source": [
    "qc.draw(fold=-1)"
   ]
  },
  {
   "cell_type": "markdown",
   "id": "cd6ba42f",
   "metadata": {},
   "source": [
    "## Dispute Resolve Phase"
   ]
  },
  {
   "cell_type": "code",
   "execution_count": null,
   "id": "73b726a6",
   "metadata": {},
   "outputs": [],
   "source": [
    "# Trent requires Bob to provide P, S\n",
    "# Trent checks if P_enc = encrypt_KAT(P)\n",
    "# S = [*P_enc, *M_A_1_sig, *M_A_2_sig]\n",
    "qc.append(qotp(3*n, K_AT[:6*n], \"dec\"), S)\n",
    "qc.append(secret_qubit(K_AT[:n], \"enc\"), P)\n",
    "\n",
    "qc.append(cswap_comparison(n), [*P, *P_enc, *cswap_3])\n",
    "qc.measure(cswap_3, cswap_measure_3)\n",
    "result = get_measurements(qc, shots)\n",
    "counts = result.get_counts()\n",
    "# restore P\n",
    "qc.append(secret_qubit(K_AT[:n], \"dec\"), P)\n",
    "qc.append(qotp(3*n, K_AT[:6*n], \"enc\"), S)"
   ]
  },
  {
   "cell_type": "code",
   "execution_count": null,
   "id": "a0a34fe5",
   "metadata": {},
   "outputs": [],
   "source": [
    "identical = True\n",
    "for keys in counts:\n",
    "    if keys[-8] != '0':\n",
    "        identical = False\n",
    "if identical :\n",
    "    print(\"Message and signature verified, Alice's disavowel prevented\")\n",
    "else :\n",
    "    print(\"Message and signature forged, Bob's forgery prevented\")\n",
    "qc.draw(fold=-1)"
   ]
  },
  {
   "cell_type": "markdown",
   "id": "40b742dd",
   "metadata": {},
   "source": [
    "## Bob's Forgery : Known Message Attack"
   ]
  },
  {
   "cell_type": "code",
   "execution_count": null,
   "id": "2c1b3b5a",
   "metadata": {},
   "outputs": [],
   "source": [
    "# Bob now has a valid signature, message pair (S, P) \n",
    "# step 1 : generate random string r and add same pauli gates on S, P \n",
    "rdstr = []\n",
    "r = np.random.randint(4, size=n)\n",
    "for i in range(n):\n",
    "    if r[i] == 0:\n",
    "        qc.x(P[i])\n",
    "        qc.x(P_enc[i])\n",
    "    elif r[i] == 1:\n",
    "        qc.z(P[i])\n",
    "        qc.z(P_enc[i])\n",
    "    elif r[i] == 2:\n",
    "        qc.x(P[i])\n",
    "        qc.z(P[i])\n",
    "        qc.x(P_enc[i])\n",
    "        qc.z(P_enc[i])"
   ]
  },
  {
   "cell_type": "code",
   "execution_count": null,
   "id": "85a5e845",
   "metadata": {},
   "outputs": [],
   "source": [
    "# step 2 : Trent's dispute resolve\n",
    "qc.append(qotp(3*n, K_AT[:6*n], \"dec\"), S)\n",
    "qc.append(secret_qubit(K_AT[:n], \"enc\"), P)\n",
    "\n",
    "qc.append(cswap_comparison(n), [*P, *P_enc, *cswap_3])\n",
    "qc.measure(cswap_3, cswap_measure_3)\n",
    "result = get_measurements(qc, shots)\n",
    "counts = result.get_counts()\n",
    "# restore P\n",
    "qc.append(secret_qubit(K_AT[:n], \"dec\"), P)\n",
    "qc.append(qotp(3*n, K_AT[:6*n], \"enc\"), S)"
   ]
  },
  {
   "cell_type": "code",
   "execution_count": null,
   "id": "ede28fa4",
   "metadata": {},
   "outputs": [],
   "source": [
    "identical = True\n",
    "for keys in counts:\n",
    "    if keys[-8] != '0':\n",
    "        identical = False\n",
    "\n",
    "if identical :\n",
    "    print(\"Bob's forgery succeeded\")\n",
    "else :\n",
    "    print(\"Bob's forgery failed\")"
   ]
  }
 ],
 "metadata": {
  "kernelspec": {
   "display_name": "Python 3 (ipykernel)",
   "language": "python",
   "name": "python3"
  },
  "language_info": {
   "codemirror_mode": {
    "name": "ipython",
    "version": 3
   },
   "file_extension": ".py",
   "mimetype": "text/x-python",
   "name": "python",
   "nbconvert_exporter": "python",
   "pygments_lexer": "ipython3",
   "version": "3.9.7"
  }
 },
 "nbformat": 4,
 "nbformat_minor": 5
}
